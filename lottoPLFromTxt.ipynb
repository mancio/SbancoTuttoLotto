{
 "cells": [
  {
   "cell_type": "markdown",
   "id": "105e0e7eae3fe3e7",
   "metadata": {},
   "source": [
    "# Polish Lotto Extraction Analysis\n",
    "This notebook contains code to fetch lotto extraction data, perform frequency analysis, and visualize the results with a color gradient.\n",
    "\n",
    "NOTE: Please download [here](http://www.mbnet.com.pl/wyniki.htm) the txt file for the game you want, save it in the repository main directory with the name lotto.txt, miniLotto.txt, lottoPlus.txt  "
   ]
  },
  {
   "cell_type": "markdown",
   "id": "c0eafc360ccef721",
   "metadata": {},
   "source": [
    "## Importing Required Libraries"
   ]
  },
  {
   "cell_type": "code",
   "execution_count": 1,
   "id": "c045fc3c729cb9b3",
   "metadata": {
    "ExecuteTime": {
     "end_time": "2024-09-05T09:16:58.248620Z",
     "start_time": "2024-09-05T09:16:56.757386Z"
    },
    "collapsed": false,
    "jupyter": {
     "outputs_hidden": false
    }
   },
   "outputs": [
    {
     "name": "stdout",
     "output_type": "stream",
     "text": [
      "Requirement already satisfied: matplotlib in c:\\users\\andrea\\appdata\\local\\programs\\python\\python311\\lib\\site-packages (3.8.2)\n",
      "Requirement already satisfied: numpy in c:\\users\\andrea\\appdata\\local\\programs\\python\\python311\\lib\\site-packages (1.26.2)\n",
      "Requirement already satisfied: requests in c:\\users\\andrea\\appdata\\local\\programs\\python\\python311\\lib\\site-packages (2.31.0)\n",
      "Requirement already satisfied: contourpy>=1.0.1 in c:\\users\\andrea\\appdata\\local\\programs\\python\\python311\\lib\\site-packages (from matplotlib) (1.2.0)\n",
      "Requirement already satisfied: cycler>=0.10 in c:\\users\\andrea\\appdata\\local\\programs\\python\\python311\\lib\\site-packages (from matplotlib) (0.12.1)\n",
      "Requirement already satisfied: fonttools>=4.22.0 in c:\\users\\andrea\\appdata\\local\\programs\\python\\python311\\lib\\site-packages (from matplotlib) (4.46.0)\n",
      "Requirement already satisfied: kiwisolver>=1.3.1 in c:\\users\\andrea\\appdata\\local\\programs\\python\\python311\\lib\\site-packages (from matplotlib) (1.4.5)\n",
      "Requirement already satisfied: packaging>=20.0 in c:\\users\\andrea\\appdata\\local\\programs\\python\\python311\\lib\\site-packages (from matplotlib) (23.2)\n",
      "Requirement already satisfied: pillow>=8 in c:\\users\\andrea\\appdata\\local\\programs\\python\\python311\\lib\\site-packages (from matplotlib) (10.1.0)\n",
      "Requirement already satisfied: pyparsing>=2.3.1 in c:\\users\\andrea\\appdata\\local\\programs\\python\\python311\\lib\\site-packages (from matplotlib) (3.1.1)\n",
      "Requirement already satisfied: python-dateutil>=2.7 in c:\\users\\andrea\\appdata\\local\\programs\\python\\python311\\lib\\site-packages (from matplotlib) (2.8.2)\n",
      "Requirement already satisfied: charset-normalizer<4,>=2 in c:\\users\\andrea\\appdata\\local\\programs\\python\\python311\\lib\\site-packages (from requests) (3.3.2)\n",
      "Requirement already satisfied: idna<4,>=2.5 in c:\\users\\andrea\\appdata\\local\\programs\\python\\python311\\lib\\site-packages (from requests) (3.6)\n",
      "Requirement already satisfied: urllib3<3,>=1.21.1 in c:\\users\\andrea\\appdata\\local\\programs\\python\\python311\\lib\\site-packages (from requests) (2.1.0)\n",
      "Requirement already satisfied: certifi>=2017.4.17 in c:\\users\\andrea\\appdata\\local\\programs\\python\\python311\\lib\\site-packages (from requests) (2023.11.17)\n",
      "Requirement already satisfied: six>=1.5 in c:\\users\\andrea\\appdata\\local\\programs\\python\\python311\\lib\\site-packages (from python-dateutil>=2.7->matplotlib) (1.16.0)\n"
     ]
    }
   ],
   "source": [
    "!pip install matplotlib numpy requests\n",
    "import matplotlib.pyplot as plt\n",
    "import numpy as np\n",
    "from itertools import combinations\n",
    "from collections import Counter\n",
    "import requests\n",
    "from datetime import datetime"
   ]
  },
  {
   "cell_type": "markdown",
   "id": "86db99084f878546",
   "metadata": {},
   "source": [
    "## Download latest txt files"
   ]
  },
  {
   "cell_type": "code",
   "execution_count": 2,
   "id": "8e933ccf00b29cd6",
   "metadata": {
    "ExecuteTime": {
     "end_time": "2024-09-05T09:16:58.505372Z",
     "start_time": "2024-09-05T09:16:58.266630Z"
    }
   },
   "outputs": [
    {
     "name": "stdout",
     "output_type": "stream",
     "text": [
      "File downloaded and renamed to 'lotto.txt'.\n",
      "File downloaded and renamed to 'lottoPlus.txt'.\n",
      "File downloaded and renamed to 'miniLotto.txt'.\n"
     ]
    }
   ],
   "source": [
    "# Define names\n",
    "LOTTO = \"lotto.txt\"\n",
    "LOTTOPLUS = \"lottoPlus.txt\"\n",
    "MINILOTTO = \"miniLotto.txt\"\n",
    "\n",
    "# Define the URLs and corresponding file names\n",
    "files = {\n",
    "    \"http://www.mbnet.com.pl/dl.txt\": LOTTO,\n",
    "    \"http://www.mbnet.com.pl/dl_plus.txt\": LOTTOPLUS,\n",
    "    \"http://www.mbnet.com.pl/el.txt\": MINILOTTO\n",
    "}\n",
    "\n",
    "# Iterate over the dictionary and download each file\n",
    "for url, filename in files.items():\n",
    "    # Send a GET request to download the file\n",
    "    response = requests.get(url)\n",
    "\n",
    "    # Check if the request was successful\n",
    "    if response.status_code == 200:\n",
    "        # Write the content to the respective file\n",
    "        with open(filename, \"wb\") as file:\n",
    "            file.write(response.content)\n",
    "        print(f\"File downloaded and renamed to '{filename}'.\")\n",
    "    else:\n",
    "        print(f\"Failed to download the file from {url}. Status code:\", response.status_code)"
   ]
  },
  {
   "cell_type": "markdown",
   "id": "6034f7c929c22adc",
   "metadata": {},
   "source": [
    "## Choose the file with the lotto number list"
   ]
  },
  {
   "cell_type": "code",
   "execution_count": 3,
   "id": "93bde4b2e0b21ea7",
   "metadata": {
    "ExecuteTime": {
     "end_time": "2024-09-05T09:16:58.515787Z",
     "start_time": "2024-09-05T09:16:58.513460Z"
    }
   },
   "outputs": [],
   "source": [
    "# Path to the txt file\n",
    "file_path = LOTTO\n"
   ]
  },
  {
   "cell_type": "markdown",
   "id": "277272074a06f328",
   "metadata": {
    "collapsed": false,
    "jupyter": {
     "outputs_hidden": false
    }
   },
   "source": [
    "## Function to Fetch Lotto Data"
   ]
  },
  {
   "cell_type": "code",
   "execution_count": 4,
   "id": "670b5bb30141351c",
   "metadata": {
    "ExecuteTime": {
     "end_time": "2024-09-05T09:16:58.536964Z",
     "start_time": "2024-09-05T09:16:58.523205Z"
    },
    "collapsed": false,
    "jupyter": {
     "outputs_hidden": false
    }
   },
   "outputs": [],
   "source": [
    "def read_lotto_data_from_txt(file_path):\n",
    "    try:\n",
    "        with open(file_path, 'r') as file:\n",
    "            lines = file.readlines()\n",
    "\n",
    "        lotto_data = {}\n",
    "        for line in lines:\n",
    "            # Splitting by space after the period to separate the draw number, date, and numbers\n",
    "            parts = line.split('. ', 1)\n",
    "            play_number = int(parts[0])\n",
    "\n",
    "            # Splitting by space to separate the date and numbers\n",
    "            date_and_numbers = parts[1].split(' ', 1)\n",
    "            formatted_date = date_and_numbers[0]\n",
    "            numbers = [int(num) for num in date_and_numbers[1].strip().split(',')]\n",
    "\n",
    "            lotto_data[play_number] = {\n",
    "                'date': formatted_date,\n",
    "                'gametype': 'Minilotto',\n",
    "                'numbers': numbers  # Now numbers are stored as integers\n",
    "            }\n",
    "\n",
    "        return lotto_data\n",
    "\n",
    "    except Exception as e:\n",
    "        print(f'Error reading data: {e}')\n",
    "\n",
    "# Fetching lotto results from the txt file\n",
    "lotto_results = read_lotto_data_from_txt(file_path)"
   ]
  },
  {
   "cell_type": "markdown",
   "id": "20b664fa8da03a41",
   "metadata": {},
   "source": [
    "## Function to filter by data range"
   ]
  },
  {
   "cell_type": "code",
   "execution_count": 5,
   "id": "7433e1794d95b400",
   "metadata": {
    "ExecuteTime": {
     "end_time": "2024-09-05T09:16:58.548039Z",
     "start_time": "2024-09-05T09:16:58.544876Z"
    }
   },
   "outputs": [],
   "source": [
    "def filter_lotto_results_by_date(lotto_results, start_date, end_date):\n",
    "    \"\"\"\n",
    "    Filters the lotto results to include only those within the specified date range.\n",
    "\n",
    "    :param lotto_results: Dictionary of lotto results.\n",
    "    :param start_date: String of start date in 'dd.mm.yyyy' format.\n",
    "    :param end_date: String of end date in 'dd.mm.yyyy' format.\n",
    "    :return: Filtered dictionary of lotto results.\n",
    "    \"\"\"\n",
    "    # Convert start_date and end_date to datetime objects\n",
    "    start_date = datetime.strptime(start_date, \"%d.%m.%Y\")\n",
    "    end_date = datetime.strptime(end_date, \"%d.%m.%Y\")\n",
    "\n",
    "    # Filter the results\n",
    "    filtered_results = {}\n",
    "    for play_number, play_data in lotto_results.items():\n",
    "        play_date = datetime.strptime(play_data['date'], \"%d.%m.%Y\")\n",
    "        if start_date <= play_date <= end_date:\n",
    "            filtered_results[play_number] = play_data\n",
    "\n",
    "    return filtered_results\n"
   ]
  },
  {
   "cell_type": "markdown",
   "id": "48ef55e51a3304c9",
   "metadata": {},
   "source": [
    "## Select data range"
   ]
  },
  {
   "cell_type": "code",
   "execution_count": 6,
   "id": "15144d6da7f2e792",
   "metadata": {
    "ExecuteTime": {
     "end_time": "2024-09-05T09:16:58.585580Z",
     "start_time": "2024-09-05T09:16:58.555927Z"
    },
    "collapsed": false,
    "jupyter": {
     "outputs_hidden": false
    }
   },
   "outputs": [],
   "source": [
    "# Example usage\n",
    "start_date = \"01.01.2024\"\n",
    "end_date = \"30.12.2024\"\n",
    "lotto_results = filter_lotto_results_by_date(lotto_results, start_date, end_date)\n",
    "\n",
    "# Now, filtered_lotto_results contains only the plays between the start_date and end_date"
   ]
  },
  {
   "cell_type": "markdown",
   "id": "77ce81ad56b63944",
   "metadata": {
    "collapsed": false,
    "jupyter": {
     "outputs_hidden": false
    }
   },
   "source": [
    "## Total draws in the selected period"
   ]
  },
  {
   "cell_type": "code",
   "execution_count": 7,
   "id": "d9a94281efcbf500",
   "metadata": {
    "ExecuteTime": {
     "end_time": "2024-09-05T09:16:58.596829Z",
     "start_time": "2024-09-05T09:16:58.593989Z"
    },
    "collapsed": false,
    "jupyter": {
     "outputs_hidden": false
    }
   },
   "outputs": [
    {
     "name": "stdout",
     "output_type": "stream",
     "text": [
      "106 draws from 01.01.2024 to 30.12.2024\n"
     ]
    }
   ],
   "source": [
    "total_draws = len(lotto_results)\n",
    "print(f\"{total_draws} draws from {start_date} to {end_date}\")"
   ]
  },
  {
   "cell_type": "markdown",
   "id": "3a97d42054f74ba9",
   "metadata": {
    "collapsed": false,
    "jupyter": {
     "outputs_hidden": false
    }
   },
   "source": [
    "## Last 10 draws"
   ]
  },
  {
   "cell_type": "code",
   "execution_count": 8,
   "id": "4a5f980481535160",
   "metadata": {
    "ExecuteTime": {
     "end_time": "2024-09-05T09:16:58.620659Z",
     "start_time": "2024-09-05T09:16:58.617610Z"
    },
    "collapsed": false,
    "jupyter": {
     "outputs_hidden": false
    }
   },
   "outputs": [
    {
     "name": "stdout",
     "output_type": "stream",
     "text": [
      "Play Number: 7078, Date: 13.08.2024, Numbers: [1, 13, 35, 36, 41, 47]\n",
      "Play Number: 7079, Date: 15.08.2024, Numbers: [9, 17, 21, 33, 35, 37]\n",
      "Play Number: 7080, Date: 17.08.2024, Numbers: [13, 16, 22, 30, 38, 44]\n",
      "Play Number: 7081, Date: 20.08.2024, Numbers: [2, 17, 26, 27, 32, 40]\n",
      "Play Number: 7082, Date: 22.08.2024, Numbers: [2, 3, 8, 12, 17, 21]\n",
      "Play Number: 7083, Date: 24.08.2024, Numbers: [1, 6, 12, 36, 37, 49]\n",
      "Play Number: 7084, Date: 27.08.2024, Numbers: [3, 15, 27, 34, 45, 46]\n",
      "Play Number: 7085, Date: 29.08.2024, Numbers: [2, 13, 17, 23, 32, 41]\n",
      "Play Number: 7086, Date: 31.08.2024, Numbers: [12, 14, 18, 30, 34, 38]\n",
      "Play Number: 7087, Date: 03.09.2024, Numbers: [3, 11, 19, 21, 27, 44]\n"
     ]
    }
   ],
   "source": [
    "# Displaying the last 10 (newest) results from lotto_results dictionary\n",
    "last_10_plays = sorted(lotto_results.keys())[-10:]\n",
    "for play_number in last_10_plays:\n",
    "    result = lotto_results[play_number]\n",
    "    print(f\"Play Number: {play_number}, Date: {result['date']}, Numbers: {result['numbers']}\")\n"
   ]
  },
  {
   "cell_type": "markdown",
   "id": "c35f6ab4e9f953d",
   "metadata": {
    "collapsed": false,
    "jupyter": {
     "outputs_hidden": false
    }
   },
   "source": [
    "## Frequency Analysis"
   ]
  },
  {
   "cell_type": "code",
   "execution_count": 9,
   "id": "45576cf1946f16e5",
   "metadata": {
    "ExecuteTime": {
     "end_time": "2024-09-05T09:16:58.832452Z",
     "start_time": "2024-09-05T09:16:58.646285Z"
    },
    "collapsed": false,
    "jupyter": {
     "outputs_hidden": false
    }
   },
   "outputs": [
    {
     "data": {
      "image/png": "[encoded data removed]",
      "text/plain": [
       "<Figure size 1500x500 with 1 Axes>"
      ]
     },
     "metadata": {},
     "output_type": "display_data"
    }
   ],
   "source": [
    "def frequency_analysis(lotto_data):\n",
    "    numbers = []\n",
    "    for play in lotto_data.values():\n",
    "        numbers.extend(play['numbers'])\n",
    "    return Counter(numbers)\n",
    "\n",
    "global number_frequency\n",
    "number_frequency = frequency_analysis(lotto_results)\n",
    "sorted_numbers = sorted(number_frequency.items(), key=lambda x: x[1])\n",
    "numbers, frequencies = zip(*sorted_numbers)\n",
    "\n",
    "# Define nine thresholds for the deciles\n",
    "thresholds = np.quantile(frequencies, np.linspace(1/8, 7/8, 7))\n",
    "\n",
    "# Define 10 colors for each decile\n",
    "octile_colors = [\n",
    "    'darkblue',    # Least frequent - coldest\n",
    "    'blue',\n",
    "    'lightblue',\n",
    "    'green',\n",
    "    'lightgreen',\n",
    "    'yellow',\n",
    "    'orange',\n",
    "    'red'        # Most frequent - hottest\n",
    "]\n",
    "\n",
    "# Assign a color based on which decile each frequency falls into\n",
    "colors = []\n",
    "for freq in frequencies:\n",
    "    for i, threshold in enumerate(thresholds):\n",
    "        if freq <= threshold:\n",
    "            colors.append(octile_colors[i])\n",
    "            break\n",
    "    else:\n",
    "        colors.append(octile_colors[-1])  # Assign the last color to the top decile\n",
    "\n",
    "# Plotting the results with the assigned colors\n",
    "plt.figure(figsize=(15, 5))\n",
    "plt.bar(numbers, frequencies, color=colors)\n",
    "plt.xlabel('Number')\n",
    "plt.ylabel('Frequency')\n",
    "plt.title('Lotto Number Frequency')\n",
    "plt.xticks(numbers, rotation=90)\n",
    "plt.show()"
   ]
  },
  {
   "cell_type": "markdown",
   "id": "e0bdc441b39a7a68",
   "metadata": {},
   "source": [
    "## Trend Analysis\n",
    "This analysis examines how the frequency of specific numbers or combinations changes over time."
   ]
  },
  {
   "cell_type": "code",
   "execution_count": 10,
   "id": "bd034bd85a84a896",
   "metadata": {
    "ExecuteTime": {
     "end_time": "2024-09-05T09:16:59.192674Z",
     "start_time": "2024-09-05T09:16:58.849813Z"
    }
   },
   "outputs": [
    {
     "data": {
      "image/png": "[encoded data removed]",
      "text/plain": [
       "<Figure size 2000x800 with 1 Axes>"
      ]
     },
     "metadata": {},
     "output_type": "display_data"
    }
   ],
   "source": [
    "import matplotlib.pyplot as plt\n",
    "\n",
    "def trend_analysis(lotto_data, target_number):\n",
    "    dates = []\n",
    "    occurrences = []\n",
    "    count = 0\n",
    "    for play in sorted(lotto_data.values(), key=lambda x: x['date']):\n",
    "        dates.append(play['date'])\n",
    "        if target_number in play['numbers']:\n",
    "            count += 1\n",
    "        occurrences.append(count)\n",
    "\n",
    "    plt.figure(figsize=(20, 8))  # Increase figure size for better readability\n",
    "    plt.plot(dates, occurrences, label=f'Number {target_number}')\n",
    "    plt.xlabel('Date')\n",
    "    plt.ylabel('Cumulative Frequency')\n",
    "    plt.title(f'Cumulative Frequency of Number {target_number} Over Time')\n",
    "    plt.xticks(rotation=90)\n",
    "    plt.legend()\n",
    "    plt.show()\n",
    "\n",
    "trend_analysis(lotto_results, target_number=1)\n",
    "\n"
   ]
  },
  {
   "cell_type": "markdown",
   "id": "34cef8245515b3a8",
   "metadata": {},
   "source": [
    "## Print the five more and less probable numbers"
   ]
  },
  {
   "cell_type": "code",
   "execution_count": 11,
   "id": "d5509886045fbebf",
   "metadata": {
    "ExecuteTime": {
     "end_time": "2024-09-05T09:16:59.207414Z",
     "start_time": "2024-09-05T09:16:59.203679Z"
    },
    "collapsed": false,
    "jupyter": {
     "outputs_hidden": false
    }
   },
   "outputs": [
    {
     "name": "stdout",
     "output_type": "stream",
     "text": [
      "5 Most Probable Numbers: [2, 49, 13, 18, 17]\n",
      "5 Least Probable Numbers: [31, 24, 35, 15, 25]\n"
     ]
    }
   ],
   "source": [
    "# Sorting the numbers by frequency in descending order\n",
    "most_frequent_numbers = sorted(number_frequency, key=number_frequency.get, reverse=True)[:5]\n",
    "\n",
    "# Sorting the numbers by frequency in ascending order\n",
    "least_frequent_numbers = sorted(number_frequency, key=number_frequency.get)[:5]\n",
    "\n",
    "print(\"5 Most Probable Numbers:\", most_frequent_numbers)\n",
    "print(\"5 Least Probable Numbers:\", least_frequent_numbers)"
   ]
  },
  {
   "cell_type": "markdown",
   "id": "4a79d4316a8cf5f2",
   "metadata": {
    "collapsed": false,
    "jupyter": {
     "outputs_hidden": false
    }
   },
   "source": [
    "## Verifying if the Most or Least Probable Sets of Five Numbers Have Been Previously Drawn"
   ]
  },
  {
   "cell_type": "code",
   "execution_count": 12,
   "id": "de759a11ae45962e",
   "metadata": {
    "ExecuteTime": {
     "end_time": "2024-09-05T09:16:59.229651Z",
     "start_time": "2024-09-05T09:16:59.225033Z"
    },
    "collapsed": false,
    "jupyter": {
     "outputs_hidden": false
    }
   },
   "outputs": [
    {
     "name": "stdout",
     "output_type": "stream",
     "text": [
      "Occurrences of Most Probable Numbers:\n",
      "None\n",
      "\n",
      "Occurrences of Least Probable Numbers:\n",
      "None\n"
     ]
    }
   ],
   "source": [
    "def check_occurrence(lotto_data, numbers_set):\n",
    "    occurrences = []\n",
    "    for play_number, play_data in lotto_data.items():\n",
    "        if set(play_data['numbers']) == numbers_set:\n",
    "            occurrences.append((play_number, play_data['date']))\n",
    "    return occurrences\n",
    "\n",
    "# Most and least probable numbers\n",
    "most_probable_numbers = set(most_frequent_numbers)\n",
    "least_probable_numbers = set(least_frequent_numbers)\n",
    "\n",
    "# Check if these sets ever occurred in the history\n",
    "most_probable_occurrences = check_occurrence(lotto_results, most_probable_numbers)\n",
    "least_probable_occurrences = check_occurrence(lotto_results, least_probable_numbers)\n",
    "\n",
    "print(\"Occurrences of Most Probable Numbers:\")\n",
    "if most_probable_occurrences:\n",
    "    for play_number, date in most_probable_occurrences:\n",
    "        print(f\"Play Number: {play_number}, Date: {date}\")\n",
    "else:\n",
    "    print(\"None\")\n",
    "\n",
    "print(\"\\nOccurrences of Least Probable Numbers:\")\n",
    "if least_probable_occurrences:\n",
    "    for play_number, date in least_probable_occurrences:\n",
    "        print(f\"Play Number: {play_number}, Date: {date}\")\n",
    "else:\n",
    "    print(\"None\")\n"
   ]
  },
  {
   "cell_type": "markdown",
   "id": "a17be086fc4e2ee5",
   "metadata": {
    "collapsed": false,
    "jupyter": {
     "outputs_hidden": false
    }
   },
   "source": [
    "## Comprehensive Analysis of Lotto Number Combinations: Pairs, Triplets, and Quadruplets"
   ]
  },
  {
   "cell_type": "code",
   "execution_count": 13,
   "id": "f54e4d95f5ec1579",
   "metadata": {
    "ExecuteTime": {
     "end_time": "2024-09-05T09:16:59.255500Z",
     "start_time": "2024-09-05T09:16:59.249464Z"
    },
    "collapsed": false,
    "jupyter": {
     "outputs_hidden": false
    }
   },
   "outputs": [
    {
     "name": "stdout",
     "output_type": "stream",
     "text": [
      "\n",
      "Analyzing 2-number combinations:\n",
      "Combination: (2, 13), Frequency: 7\n",
      "Combination: (2, 6), Frequency: 7\n",
      "Combination: (2, 18), Frequency: 7\n",
      "Combination: (2, 38), Frequency: 6\n",
      "Combination: (17, 32), Frequency: 6\n",
      "Combination: (2, 42), Frequency: 5\n",
      "Combination: (30, 42), Frequency: 5\n",
      "Combination: (23, 28), Frequency: 5\n",
      "Combination: (2, 17), Frequency: 5\n",
      "Combination: (3, 27), Frequency: 5\n",
      "\n",
      "Analyzing 3-number combinations:\n",
      "Combination: (2, 17, 26), Frequency: 3\n",
      "Combination: (2, 6, 38), Frequency: 3\n",
      "Combination: (18, 20, 47), Frequency: 3\n",
      "Combination: (8, 12, 21), Frequency: 3\n",
      "Combination: (15, 37, 49), Frequency: 2\n",
      "Combination: (2, 5, 42), Frequency: 2\n",
      "Combination: (2, 9, 30), Frequency: 2\n",
      "Combination: (2, 30, 42), Frequency: 2\n",
      "Combination: (4, 20, 23), Frequency: 2\n",
      "Combination: (4, 28, 48), Frequency: 2\n",
      "\n",
      "Analyzing 4-number combinations:\n",
      "Combination: (12, 31, 39, 41), Frequency: 2\n",
      "Combination: (30, 42, 47, 48), Frequency: 2\n",
      "Combination: (2, 18, 20, 47), Frequency: 2\n",
      "Combination: (8, 12, 17, 21), Frequency: 2\n",
      "Combination: (15, 18, 28, 30), Frequency: 1\n",
      "Combination: (15, 18, 28, 37), Frequency: 1\n",
      "Combination: (15, 18, 28, 49), Frequency: 1\n",
      "Combination: (15, 18, 30, 37), Frequency: 1\n",
      "Combination: (15, 18, 30, 49), Frequency: 1\n",
      "Combination: (15, 18, 37, 49), Frequency: 1\n"
     ]
    }
   ],
   "source": [
    "def analyze_combinations(lotto_data, combination_size=2):\n",
    "    \"\"\"\n",
    "    Analyzes the frequency of combinations (like pairs, triplets, quadruplets) in the lotto data.\n",
    "\n",
    "    :param lotto_data: Dictionary of lotto results.\n",
    "    :param combination_size: Size of the combinations to analyze (2 for pairs, 3 for triplets, 4 for quadruplets).\n",
    "    :return: Counter object with the frequency of each combination.\n",
    "    \"\"\"\n",
    "    all_combinations = []\n",
    "\n",
    "    # Iterate through each draw and find combinations\n",
    "    for play_data in lotto_data.values():\n",
    "        numbers = play_data['numbers']\n",
    "        for combo in combinations(numbers, combination_size):\n",
    "            all_combinations.append(tuple(sorted(combo)))\n",
    "\n",
    "    return Counter(all_combinations)\n",
    "\n",
    "# Example usage\n",
    "for combination_size in [2, 3, 4]:  # For pairs, triplets, and quadruplets\n",
    "    print(f\"\\nAnalyzing {combination_size}-number combinations:\")\n",
    "    combinations_frequency = analyze_combinations(lotto_results, combination_size)\n",
    "\n",
    "    # Display the most common combinations\n",
    "    for combo, frequency in combinations_frequency.most_common(10):\n",
    "        print(f\"Combination: {combo}, Frequency: {frequency}\")\n"
   ]
  },
  {
   "cell_type": "markdown",
   "id": "cb03331bb37a382e",
   "metadata": {
    "collapsed": false,
    "jupyter": {
     "outputs_hidden": false
    }
   },
   "source": [
    "## Detailed Analysis of Lotto Number Distributions and Trends"
   ]
  },
  {
   "cell_type": "markdown",
   "id": "6699251e3000564e",
   "metadata": {
    "collapsed": false,
    "jupyter": {
     "outputs_hidden": false
    }
   },
   "source": [
    "Change bin size for broader view or more granularity"
   ]
  },
  {
   "cell_type": "code",
   "execution_count": 14,
   "id": "b2e9b544c5ed4fa6",
   "metadata": {
    "ExecuteTime": {
     "end_time": "2024-09-05T09:16:59.371930Z",
     "start_time": "2024-09-05T09:16:59.279256Z"
    }
   },
   "outputs": [
    {
     "data": {
      "image/png": "[encoded data removed]",
      "text/plain": [
       "<Figure size 1200x600 with 1 Axes>"
      ]
     },
     "metadata": {},
     "output_type": "display_data"
    },
    {
     "name": "stdout",
     "output_type": "stream",
     "text": [
      "Range: 11-20, Frequency: 143\n",
      "Range: 1-10, Frequency: 131\n",
      "Range: 21-30, Frequency: 128\n",
      "Range: 41-50, Frequency: 124\n",
      "Range: 31-40, Frequency: 110\n"
     ]
    }
   ],
   "source": [
    "def plot_number_distribution(lotto_data, bin_size=10):\n",
    "    \"\"\"\n",
    "    Plots the distribution of lotto numbers with more detailed x-axis.\n",
    "\n",
    "    :param lotto_data: Dictionary of lotto results.\n",
    "    :param bin_size: Size of each bin in the histogram, default is 1 for finer detail.\n",
    "    \"\"\"\n",
    "    all_numbers = []\n",
    "    for play_data in lotto_data.values():\n",
    "        all_numbers.extend(play_data['numbers'])\n",
    "\n",
    "    # Determine the range of numbers\n",
    "    min_number = min(all_numbers)\n",
    "    max_number = max(all_numbers)\n",
    "\n",
    "    # Create a histogram to visualize the distribution\n",
    "    plt.figure(figsize=(12, 6))\n",
    "    counts, bins, patches = plt.hist(all_numbers, bins=range(min_number, max_number + bin_size, bin_size), edgecolor='black', alpha=0.7)\n",
    "\n",
    "    # Adjust the x-axis to cover the entire range of bins\n",
    "    plt.xticks(range(min_number, max_number + bin_size, bin_size))\n",
    "\n",
    "    plt.xlabel('Number')\n",
    "    plt.ylabel('Frequency')\n",
    "    plt.title('Detailed Distribution of Lotto Numbers')\n",
    "    plt.grid(axis='y', alpha=0.75)\n",
    "    plt.show()\n",
    "\n",
    "    # Sorting and printing bin frequencies from highest to lowest\n",
    "    bin_frequencies = Counter({f'{int(bins[i])}-{int(bins[i+1])-1}': int(counts[i]) for i in range(len(counts))})\n",
    "    for bin_range, frequency in bin_frequencies.most_common():\n",
    "        print(f\"Range: {bin_range}, Frequency: {frequency}\")\n",
    "\n",
    "# Example usage\n",
    "plot_number_distribution(lotto_results)"
   ]
  },
  {
   "cell_type": "markdown",
   "id": "eaf96508-f765-4fa1-88a8-0e014c031bfb",
   "metadata": {},
   "source": [
    "## Dynamic Number Suggestion Based on Game Type (Lotto vs Mini Lotto)"
   ]
  },
  {
   "cell_type": "code",
   "execution_count": 15,
   "id": "c2d4c3b5-bf3c-48fa-82ef-6d83aafba755",
   "metadata": {
    "ExecuteTime": {
     "end_time": "2024-09-05T09:16:59.462176Z",
     "start_time": "2024-09-05T09:16:59.454783Z"
    }
   },
   "outputs": [
    {
     "name": "stdout",
     "output_type": "stream",
     "text": [
      "Suggested numbers for lotto.txt: [2, 13, 24, 31, 35, 49]\n"
     ]
    }
   ],
   "source": [
    "import random\n",
    "from collections import Counter\n",
    "\n",
    "\n",
    "# Suggest numbers function that now takes file_path as an argument\n",
    "def suggest_numbers(frequency_dict, file_path, high_freq_ratio=0.6, method='mix', random_seed=None):\n",
    "    \"\"\"\n",
    "    Suggests a set of numbers based on frequency analysis, adapting to the Lotto or Mini Lotto game.\n",
    "    \n",
    "    Parameters:\n",
    "    - frequency_dict (dict): A dictionary where keys are numbers and values are their frequencies.\n",
    "    - file_path (str): The path to the file indicating the type of game ('LOTTO' or 'MINILOTTO').\n",
    "    - high_freq_ratio (float): Ratio of high-frequency numbers to include (between 0 and 1). Used only if method='mix'.\n",
    "    - method (str): 'mix' to combine high and low frequencies, 'weighted' for weighted random selection.\n",
    "    - random_seed (int, optional): Seed for reproducibility.\n",
    "    \n",
    "    Returns:\n",
    "    - set: A set of suggested numbers.\n",
    "    \"\"\"\n",
    "    # Set the game type based on file_path\n",
    "    if file_path == 'LOTTO':\n",
    "        total_numbers = 6  # Lotto requires selecting 6 numbers\n",
    "        number_range = 49   # Numbers are between 1 and 49\n",
    "    elif file_path == 'MINILOTTO':\n",
    "        total_numbers = 5  # Mini Lotto requires selecting 5 numbers\n",
    "        number_range = 42   # Numbers are between 1 and 42\n",
    "    else:\n",
    "        # For Lotto Plus or any other variants\n",
    "        total_numbers = 6  # Lotto Plus also uses 6 numbers\n",
    "        number_range = 49\n",
    "\n",
    "    if random_seed is not None:\n",
    "        random.seed(random_seed)\n",
    "    \n",
    "    if method == 'mix':\n",
    "        # Sort numbers by frequency\n",
    "        sorted_numbers = sorted(frequency_dict.items(), key=lambda item: item[1], reverse=True)\n",
    "        \n",
    "        # Determine the number of high and low-frequency numbers\n",
    "        num_high = int(total_numbers * high_freq_ratio)\n",
    "        num_low = total_numbers - num_high\n",
    "        \n",
    "        # Select high-frequency numbers\n",
    "        high_freq_numbers = [num for num, freq in sorted_numbers[:num_high]]\n",
    "        \n",
    "        # Select low-frequency numbers\n",
    "        low_freq_numbers = [num for num, freq in sorted_numbers[-num_low:]]\n",
    "        \n",
    "        # Randomly select from high and low frequency pools\n",
    "        selected_high = set(random.sample(high_freq_numbers, min(len(high_freq_numbers), num_high)))\n",
    "        selected_low = set(random.sample(low_freq_numbers, min(len(low_freq_numbers), num_low)))\n",
    "        \n",
    "        # Combine the selections\n",
    "        suggested_numbers = selected_high.union(selected_low)\n",
    "        \n",
    "        # If not enough numbers due to sampling limits, fill the rest randomly\n",
    "        while len(suggested_numbers) < total_numbers:\n",
    "            remaining = total_numbers - len(suggested_numbers)\n",
    "            all_numbers = set(frequency_dict.keys())\n",
    "            possible_numbers = all_numbers - suggested_numbers\n",
    "            suggested_numbers.update(random.sample(possible_numbers, min(len(possible_numbers), remaining)))\n",
    "        \n",
    "    elif method == 'weighted':\n",
    "        # Weighted random selection based on frequency\n",
    "        numbers = list(frequency_dict.keys())\n",
    "        frequencies = list(frequency_dict.values())\n",
    "        total_freq = sum(frequencies)\n",
    "        probabilities = [freq / total_freq for freq in frequencies]\n",
    "        \n",
    "        suggested_numbers = set()\n",
    "        while len(suggested_numbers) < total_numbers:\n",
    "            number = random.choices(numbers, weights=probabilities, k=1)[0]\n",
    "            suggested_numbers.add(number)\n",
    "    else:\n",
    "        raise ValueError(\"Invalid method. Choose 'mix' or 'weighted'.\")\n",
    "    \n",
    "    return suggested_numbers\n",
    "\n",
    "# Suggest numbers based on the game type (Lotto or Mini Lotto)\n",
    "suggested_numbers = suggest_numbers(number_frequency, file_path=file_path, high_freq_ratio=0.6, method='mix', random_seed=42)\n",
    "\n",
    "print(f\"Suggested numbers for {file_path}: {sorted(suggested_numbers)}\")\n"
   ]
  },
  {
   "cell_type": "code",
   "execution_count": null,
   "id": "999b1f27-4c80-4a2e-96bd-59645d0a1a3c",
   "metadata": {
    "ExecuteTime": {
     "end_time": "2024-09-05T09:16:59.497519Z",
     "start_time": "2024-09-05T09:16:59.495245Z"
    }
   },
   "outputs": [],
   "source": []
  }
 ],
 "metadata": {
  "kernelspec": {
   "display_name": "Python 3 (ipykernel)",
   "language": "python",
   "name": "python3"
  },
  "language_info": {
   "codemirror_mode": {
    "name": "ipython",
    "version": 3
   },
   "file_extension": ".py",
   "mimetype": "text/x-python",
   "name": "python",
   "nbconvert_exporter": "python",
   "pygments_lexer": "ipython3",
   "version": "3.11.5"
  }
 },
 "nbformat": 4,
 "nbformat_minor": 5
}

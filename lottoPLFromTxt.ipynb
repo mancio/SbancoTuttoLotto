{
 "cells": [
  {
   "cell_type": "markdown",
   "id": "105e0e7eae3fe3e7",
   "metadata": {},
   "source": [
    "# Polish Lotto Extraction Analysis\n",
    "This notebook contains code to fetch lotto extraction data, perform frequency analysis, and visualize the results with a color gradient.\n",
    "\n",
    "NOTE: Please download [here](http://www.mbnet.com.pl/wyniki.htm) the txt file for the game you want, save it in the repository main directory with the name lotto.txt, miniLotto.txt, lottoPlus.txt  "
   ]
  },
  {
   "cell_type": "markdown",
   "id": "c0eafc360ccef721",
   "metadata": {},
   "source": [
    "## Importing Required Libraries"
   ]
  },
  {
   "cell_type": "code",
   "execution_count": 30,
   "id": "c045fc3c729cb9b3",
   "metadata": {
    "collapsed": false,
    "jupyter": {
     "is_executing": true,
     "outputs_hidden": false
    }
   },
   "outputs": [
    {
     "name": "stdout",
     "output_type": "stream",
     "text": [
      "Requirement already satisfied: matplotlib in c:\\users\\andma\\appdata\\local\\programs\\python\\python312\\lib\\site-packages (3.9.2)\n",
      "Requirement already satisfied: numpy in c:\\users\\andma\\appdata\\local\\programs\\python\\python312\\lib\\site-packages (2.1.0)\n",
      "Requirement already satisfied: requests in c:\\users\\andma\\appdata\\local\\programs\\python\\python312\\lib\\site-packages (2.32.3)\n",
      "Requirement already satisfied: contourpy>=1.0.1 in c:\\users\\andma\\appdata\\local\\programs\\python\\python312\\lib\\site-packages (from matplotlib) (1.3.0)\n",
      "Requirement already satisfied: cycler>=0.10 in c:\\users\\andma\\appdata\\local\\programs\\python\\python312\\lib\\site-packages (from matplotlib) (0.12.1)\n",
      "Requirement already satisfied: fonttools>=4.22.0 in c:\\users\\andma\\appdata\\local\\programs\\python\\python312\\lib\\site-packages (from matplotlib) (4.53.1)\n",
      "Requirement already satisfied: kiwisolver>=1.3.1 in c:\\users\\andma\\appdata\\local\\programs\\python\\python312\\lib\\site-packages (from matplotlib) (1.4.5)\n",
      "Requirement already satisfied: packaging>=20.0 in c:\\users\\andma\\appdata\\local\\programs\\python\\python312\\lib\\site-packages (from matplotlib) (24.1)\n",
      "Requirement already satisfied: pillow>=8 in c:\\users\\andma\\appdata\\local\\programs\\python\\python312\\lib\\site-packages (from matplotlib) (10.4.0)\n",
      "Requirement already satisfied: pyparsing>=2.3.1 in c:\\users\\andma\\appdata\\local\\programs\\python\\python312\\lib\\site-packages (from matplotlib) (3.1.4)\n",
      "Requirement already satisfied: python-dateutil>=2.7 in c:\\users\\andma\\appdata\\local\\programs\\python\\python312\\lib\\site-packages (from matplotlib) (2.9.0.post0)\n",
      "Requirement already satisfied: charset-normalizer<4,>=2 in c:\\users\\andma\\appdata\\local\\programs\\python\\python312\\lib\\site-packages (from requests) (3.3.2)\n",
      "Requirement already satisfied: idna<4,>=2.5 in c:\\users\\andma\\appdata\\local\\programs\\python\\python312\\lib\\site-packages (from requests) (3.8)\n",
      "Requirement already satisfied: urllib3<3,>=1.21.1 in c:\\users\\andma\\appdata\\local\\programs\\python\\python312\\lib\\site-packages (from requests) (2.2.2)\n",
      "Requirement already satisfied: certifi>=2017.4.17 in c:\\users\\andma\\appdata\\local\\programs\\python\\python312\\lib\\site-packages (from requests) (2024.8.30)\n",
      "Requirement already satisfied: six>=1.5 in c:\\users\\andma\\appdata\\local\\programs\\python\\python312\\lib\\site-packages (from python-dateutil>=2.7->matplotlib) (1.16.0)\n"
     ]
    }
   ],
   "source": [
    "!pip install matplotlib numpy requests\n",
    "import matplotlib.pyplot as plt\n",
    "import numpy as np\n",
    "from itertools import combinations\n",
    "from collections import Counter\n",
    "import requests\n",
    "from datetime import datetime"
   ]
  },
  {
   "cell_type": "markdown",
   "id": "86db99084f878546",
   "metadata": {},
   "source": [
    "## Download latest txt files"
   ]
  },
  {
   "cell_type": "code",
   "execution_count": 31,
   "id": "8e933ccf00b29cd6",
   "metadata": {
    "jupyter": {
     "is_executing": true
    }
   },
   "outputs": [
    {
     "name": "stdout",
     "output_type": "stream",
     "text": [
      "File downloaded and renamed to 'lotto.txt'.\n",
      "File downloaded and renamed to 'lottoPlus.txt'.\n",
      "File downloaded and renamed to 'miniLotto.txt'.\n"
     ]
    }
   ],
   "source": [
    "# Define names\n",
    "LOTTO = \"lotto.txt\"\n",
    "LOTTOPLUS = \"lottoPlus.txt\"\n",
    "MINILOTTO = \"miniLotto.txt\"\n",
    "\n",
    "# Define the URLs and corresponding file names\n",
    "files = {\n",
    "    \"http://www.mbnet.com.pl/dl.txt\": LOTTO,\n",
    "    \"http://www.mbnet.com.pl/dl_plus.txt\": LOTTOPLUS,\n",
    "    \"http://www.mbnet.com.pl/el.txt\": MINILOTTO\n",
    "}\n",
    "\n",
    "# Iterate over the dictionary and download each file\n",
    "for url, filename in files.items():\n",
    "    # Send a GET request to download the file\n",
    "    response = requests.get(url)\n",
    "\n",
    "    # Check if the request was successful\n",
    "    if response.status_code == 200:\n",
    "        # Write the content to the respective file\n",
    "        with open(filename, \"wb\") as file:\n",
    "            file.write(response.content)\n",
    "        print(f\"File downloaded and renamed to '{filename}'.\")\n",
    "    else:\n",
    "        print(f\"Failed to download the file from {url}. Status code:\", response.status_code)"
   ]
  },
  {
   "cell_type": "markdown",
   "id": "6034f7c929c22adc",
   "metadata": {},
   "source": [
    "## Choose the file with the lotto number list"
   ]
  },
  {
   "cell_type": "code",
   "execution_count": 32,
   "id": "93bde4b2e0b21ea7",
   "metadata": {
    "jupyter": {
     "is_executing": true
    }
   },
   "outputs": [],
   "source": [
    "# Path to the txt file\n",
    "file_path = LOTTO\n"
   ]
  },
  {
   "cell_type": "markdown",
   "id": "277272074a06f328",
   "metadata": {
    "collapsed": false,
    "jupyter": {
     "outputs_hidden": false
    }
   },
   "source": [
    "## Function to Fetch Lotto Data"
   ]
  },
  {
   "cell_type": "code",
   "execution_count": 33,
   "id": "670b5bb30141351c",
   "metadata": {
    "collapsed": false,
    "jupyter": {
     "is_executing": true,
     "outputs_hidden": false
    }
   },
   "outputs": [],
   "source": [
    "def read_lotto_data_from_txt(file_path):\n",
    "    try:\n",
    "        with open(file_path, 'r') as file:\n",
    "            lines = file.readlines()\n",
    "\n",
    "        lotto_data = {}\n",
    "        for line in lines:\n",
    "            # Splitting by space after the period to separate the draw number, date, and numbers\n",
    "            parts = line.split('. ', 1)\n",
    "            play_number = int(parts[0])\n",
    "\n",
    "            # Splitting by space to separate the date and numbers\n",
    "            date_and_numbers = parts[1].split(' ', 1)\n",
    "            formatted_date = date_and_numbers[0]\n",
    "            numbers = [int(num) for num in date_and_numbers[1].strip().split(',')]\n",
    "\n",
    "            lotto_data[play_number] = {\n",
    "                'date': formatted_date,\n",
    "                'gametype': 'Minilotto',\n",
    "                'numbers': numbers  # Now numbers are stored as integers\n",
    "            }\n",
    "\n",
    "        return lotto_data\n",
    "\n",
    "    except Exception as e:\n",
    "        print(f'Error reading data: {e}')\n",
    "\n",
    "# Fetching lotto results from the txt file\n",
    "lotto_results = read_lotto_data_from_txt(file_path)"
   ]
  },
  {
   "cell_type": "markdown",
   "id": "20b664fa8da03a41",
   "metadata": {},
   "source": [
    "## Function to filter by data range"
   ]
  },
  {
   "cell_type": "code",
   "execution_count": 34,
   "id": "7433e1794d95b400",
   "metadata": {
    "jupyter": {
     "is_executing": true
    }
   },
   "outputs": [],
   "source": [
    "def filter_lotto_results_by_date(lotto_results, start_date, end_date):\n",
    "    \"\"\"\n",
    "    Filters the lotto results to include only those within the specified date range.\n",
    "\n",
    "    :param lotto_results: Dictionary of lotto results.\n",
    "    :param start_date: String of start date in 'dd.mm.yyyy' format.\n",
    "    :param end_date: String of end date in 'dd.mm.yyyy' format.\n",
    "    :return: Filtered dictionary of lotto results.\n",
    "    \"\"\"\n",
    "    # Convert start_date and end_date to datetime objects\n",
    "    start_date = datetime.strptime(start_date, \"%d.%m.%Y\")\n",
    "    end_date = datetime.strptime(end_date, \"%d.%m.%Y\")\n",
    "\n",
    "    # Filter the results\n",
    "    filtered_results = {}\n",
    "    for play_number, play_data in lotto_results.items():\n",
    "        play_date = datetime.strptime(play_data['date'], \"%d.%m.%Y\")\n",
    "        if start_date <= play_date <= end_date:\n",
    "            filtered_results[play_number] = play_data\n",
    "\n",
    "    return filtered_results\n"
   ]
  },
  {
   "cell_type": "markdown",
   "id": "48ef55e51a3304c9",
   "metadata": {},
   "source": [
    "## Select data range"
   ]
  },
  {
   "cell_type": "code",
   "execution_count": 35,
   "id": "15144d6da7f2e792",
   "metadata": {
    "collapsed": false,
    "jupyter": {
     "is_executing": true,
     "outputs_hidden": false
    }
   },
   "outputs": [],
   "source": [
    "# Example usage\n",
    "start_date = \"01.01.2024\"\n",
    "end_date = \"30.12.2024\"\n",
    "lotto_results = filter_lotto_results_by_date(lotto_results, start_date, end_date)\n",
    "\n",
    "# Now, filtered_lotto_results contains only the plays between the start_date and end_date"
   ]
  },
  {
   "cell_type": "markdown",
   "id": "77ce81ad56b63944",
   "metadata": {
    "collapsed": false,
    "jupyter": {
     "outputs_hidden": false
    }
   },
   "source": [
    "## Total draws in the selected period"
   ]
  },
  {
   "cell_type": "code",
   "execution_count": 36,
   "id": "d9a94281efcbf500",
   "metadata": {
    "collapsed": false,
    "jupyter": {
     "is_executing": true,
     "outputs_hidden": false
    }
   },
   "outputs": [
    {
     "name": "stdout",
     "output_type": "stream",
     "text": [
      "105 draws from 01.01.2024 to 30.12.2024\n"
     ]
    }
   ],
   "source": [
    "total_draws = len(lotto_results)\n",
    "print(f\"{total_draws} draws from {start_date} to {end_date}\")"
   ]
  },
  {
   "cell_type": "markdown",
   "id": "3a97d42054f74ba9",
   "metadata": {
    "collapsed": false,
    "jupyter": {
     "outputs_hidden": false
    }
   },
   "source": [
    "## Last 10 draws"
   ]
  },
  {
   "cell_type": "code",
   "execution_count": 37,
   "id": "4a5f980481535160",
   "metadata": {
    "collapsed": false,
    "jupyter": {
     "is_executing": true,
     "outputs_hidden": false
    }
   },
   "outputs": [
    {
     "name": "stdout",
     "output_type": "stream",
     "text": [
      "Play Number: 7077, Date: 10.08.2024, Numbers: [1, 17, 32, 39, 42, 43]\n",
      "Play Number: 7078, Date: 13.08.2024, Numbers: [1, 13, 35, 36, 41, 47]\n",
      "Play Number: 7079, Date: 15.08.2024, Numbers: [9, 17, 21, 33, 35, 37]\n",
      "Play Number: 7080, Date: 17.08.2024, Numbers: [13, 16, 22, 30, 38, 44]\n",
      "Play Number: 7081, Date: 20.08.2024, Numbers: [2, 17, 26, 27, 32, 40]\n",
      "Play Number: 7082, Date: 22.08.2024, Numbers: [2, 3, 8, 12, 17, 21]\n",
      "Play Number: 7083, Date: 24.08.2024, Numbers: [1, 6, 12, 36, 37, 49]\n",
      "Play Number: 7084, Date: 27.08.2024, Numbers: [3, 15, 27, 34, 45, 46]\n",
      "Play Number: 7085, Date: 29.08.2024, Numbers: [2, 13, 17, 23, 32, 41]\n",
      "Play Number: 7086, Date: 31.08.2024, Numbers: [12, 14, 18, 30, 34, 38]\n"
     ]
    }
   ],
   "source": [
    "# Displaying the last 10 (newest) results from lotto_results dictionary\n",
    "last_10_plays = sorted(lotto_results.keys())[-10:]\n",
    "for play_number in last_10_plays:\n",
    "    result = lotto_results[play_number]\n",
    "    print(f\"Play Number: {play_number}, Date: {result['date']}, Numbers: {result['numbers']}\")\n"
   ]
  },
  {
   "cell_type": "markdown",
   "id": "c35f6ab4e9f953d",
   "metadata": {
    "collapsed": false,
    "jupyter": {
     "outputs_hidden": false
    }
   },
   "source": [
    "## Frequency Analysis"
   ]
  },
  {
   "cell_type": "code",
   "execution_count": 38,
   "id": "45576cf1946f16e5",
   "metadata": {
    "ExecuteTime": {
     "end_time": "2024-08-30T14:11:01.640917Z",
     "start_time": "2024-08-30T14:11:01.470838Z"
    },
    "collapsed": false,
    "jupyter": {
     "outputs_hidden": false
    }
   },
   "outputs": [
    {
     "data": {
      "image/png": "[encoded data removed]",
      "text/plain": [
       "<Figure size 1500x500 with 1 Axes>"
      ]
     },
     "metadata": {},
     "output_type": "display_data"
    }
   ],
   "source": [
    "def frequency_analysis(lotto_data):\n",
    "    numbers = []\n",
    "    for play in lotto_data.values():\n",
    "        numbers.extend(play['numbers'])\n",
    "    return Counter(numbers)\n",
    "\n",
    "number_frequency = frequency_analysis(lotto_results)\n",
    "sorted_numbers = sorted(number_frequency.items(), key=lambda x: x[1])\n",
    "numbers, frequencies = zip(*sorted_numbers)\n",
    "\n",
    "# Define nine thresholds for the deciles\n",
    "thresholds = np.quantile(frequencies, np.linspace(1/8, 7/8, 7))\n",
    "\n",
    "# Define 10 colors for each decile\n",
    "octile_colors = [\n",
    "    'darkblue',    # Least frequent - coldest\n",
    "    'blue',\n",
    "    'lightblue',\n",
    "    'green',\n",
    "    'lightgreen',\n",
    "    'yellow',\n",
    "    'orange',\n",
    "    'red'        # Most frequent - hottest\n",
    "]\n",
    "\n",
    "# Assign a color based on which decile each frequency falls into\n",
    "colors = []\n",
    "for freq in frequencies:\n",
    "    for i, threshold in enumerate(thresholds):\n",
    "        if freq <= threshold:\n",
    "            colors.append(octile_colors[i])\n",
    "            break\n",
    "    else:\n",
    "        colors.append(octile_colors[-1])  # Assign the last color to the top decile\n",
    "\n",
    "# Plotting the results with the assigned colors\n",
    "plt.figure(figsize=(15, 5))\n",
    "plt.bar(numbers, frequencies, color=colors)\n",
    "plt.xlabel('Number')\n",
    "plt.ylabel('Frequency')\n",
    "plt.title('Lotto Number Frequency')\n",
    "plt.xticks(numbers, rotation=90)\n",
    "plt.show()"
   ]
  },
  {
   "cell_type": "markdown",
   "id": "e0bdc441b39a7a68",
   "metadata": {},
   "source": [
    "## Trend Analysis\n",
    "This analysis examines how the frequency of specific numbers or combinations changes over time."
   ]
  },
  {
   "cell_type": "code",
   "execution_count": 39,
   "id": "bd034bd85a84a896",
   "metadata": {
    "ExecuteTime": {
     "end_time": "2024-08-30T14:11:02.284171Z",
     "start_time": "2024-08-30T14:11:01.658778Z"
    }
   },
   "outputs": [
    {
     "data": {
      "image/png": "[encoded data removed]",
      "text/plain": [
       "<Figure size 1400x800 with 1 Axes>"
      ]
     },
     "metadata": {},
     "output_type": "display_data"
    }
   ],
   "source": [
    "import matplotlib.pyplot as plt\n",
    "\n",
    "def trend_analysis(lotto_data, target_number):\n",
    "    dates = []\n",
    "    occurrences = []\n",
    "    count = 0\n",
    "    for play in sorted(lotto_data.values(), key=lambda x: x['date']):\n",
    "        dates.append(play['date'])\n",
    "        if target_number in play['numbers']:\n",
    "            count += 1\n",
    "        occurrences.append(count)\n",
    "\n",
    "    plt.figure(figsize=(14, 8))  # Increase figure size for better readability\n",
    "    plt.plot(dates, occurrences, label=f'Number {target_number}')\n",
    "    plt.xlabel('Date')\n",
    "    plt.ylabel('Cumulative Frequency')\n",
    "    plt.title(f'Cumulative Frequency of Number {target_number} Over Time')\n",
    "    plt.xticks(rotation=45)\n",
    "    plt.legend()\n",
    "    plt.show()\n",
    "\n",
    "# Example usage for number 7\n",
    "trend_analysis(lotto_results, target_number=41)\n",
    "\n"
   ]
  },
  {
   "cell_type": "markdown",
   "id": "2218368d1a2d8a21",
   "metadata": {},
   "source": [
    "## Chi-Square Test\n",
    "This statistical test can be used to determine if the frequency distribution of numbers is uniform, as would be expected in a random draw."
   ]
  },
  {
   "cell_type": "code",
   "execution_count": 40,
   "id": "5a11758492a4c6ba",
   "metadata": {
    "ExecuteTime": {
     "end_time": "2024-08-30T14:11:03.553318Z",
     "start_time": "2024-08-30T14:11:02.297178Z"
    }
   },
   "outputs": [
    {
     "name": "stdout",
     "output_type": "stream",
     "text": [
      "Requirement already satisfied: scipy in c:\\users\\andma\\appdata\\local\\programs\\python\\python312\\lib\\site-packages (1.14.1)\n",
      "Requirement already satisfied: numpy<2.3,>=1.23.5 in c:\\users\\andma\\appdata\\local\\programs\\python\\python312\\lib\\site-packages (from scipy) (2.1.0)\n",
      "Chi-Square Statistic: 25.367817919352106\n",
      "P-Value: 0.997050401314157\n",
      "Fail to reject the null hypothesis: The distribution is uniform.\n"
     ]
    }
   ],
   "source": [
    "!pip install scipy\n",
    "from scipy.stats import chi2_contingency\n",
    "\n",
    "def chi_square_test(lotto_data):\n",
    "    observed_freq = list(frequency_analysis(lotto_data).values())\n",
    "    expected_freq = [sum(observed_freq) / len(observed_freq)] * len(observed_freq)\n",
    "    \n",
    "    chi2_stat, p_value = chi2_contingency([observed_freq, expected_freq])[:2]\n",
    "    \n",
    "    print(f\"Chi-Square Statistic: {chi2_stat}\")\n",
    "    print(f\"P-Value: {p_value}\")\n",
    "    if p_value < 0.05:\n",
    "        print(\"Reject the null hypothesis: The distribution is not uniform.\")\n",
    "    else:\n",
    "        print(\"Fail to reject the null hypothesis: The distribution is uniform.\")\n",
    "\n",
    "# Example usage\n",
    "chi_square_test(lotto_results)\n"
   ]
  },
  {
   "cell_type": "markdown",
   "id": "96d67f5bccca1ca5",
   "metadata": {},
   "source": [
    "## Heatmap Visualization\n",
    "This visualization method uses a heatmap to show the frequency of numbers."
   ]
  },
  {
   "cell_type": "code",
   "execution_count": 41,
   "id": "ce044cb206b7a0db",
   "metadata": {
    "ExecuteTime": {
     "end_time": "2024-08-30T14:11:23.099288Z",
     "start_time": "2024-08-30T14:11:21.160236Z"
    }
   },
   "outputs": [
    {
     "name": "stdout",
     "output_type": "stream",
     "text": [
      "Requirement already satisfied: seaborn in c:\\users\\andma\\appdata\\local\\programs\\python\\python312\\lib\\site-packages (0.13.2)\n",
      "Requirement already satisfied: numpy!=1.24.0,>=1.20 in c:\\users\\andma\\appdata\\local\\programs\\python\\python312\\lib\\site-packages (from seaborn) (2.1.0)\n",
      "Requirement already satisfied: pandas>=1.2 in c:\\users\\andma\\appdata\\local\\programs\\python\\python312\\lib\\site-packages (from seaborn) (2.2.2)\n",
      "Requirement already satisfied: matplotlib!=3.6.1,>=3.4 in c:\\users\\andma\\appdata\\local\\programs\\python\\python312\\lib\\site-packages (from seaborn) (3.9.2)\n",
      "Requirement already satisfied: contourpy>=1.0.1 in c:\\users\\andma\\appdata\\local\\programs\\python\\python312\\lib\\site-packages (from matplotlib!=3.6.1,>=3.4->seaborn) (1.3.0)\n",
      "Requirement already satisfied: cycler>=0.10 in c:\\users\\andma\\appdata\\local\\programs\\python\\python312\\lib\\site-packages (from matplotlib!=3.6.1,>=3.4->seaborn) (0.12.1)\n",
      "Requirement already satisfied: fonttools>=4.22.0 in c:\\users\\andma\\appdata\\local\\programs\\python\\python312\\lib\\site-packages (from matplotlib!=3.6.1,>=3.4->seaborn) (4.53.1)\n",
      "Requirement already satisfied: kiwisolver>=1.3.1 in c:\\users\\andma\\appdata\\local\\programs\\python\\python312\\lib\\site-packages (from matplotlib!=3.6.1,>=3.4->seaborn) (1.4.5)\n",
      "Requirement already satisfied: packaging>=20.0 in c:\\users\\andma\\appdata\\local\\programs\\python\\python312\\lib\\site-packages (from matplotlib!=3.6.1,>=3.4->seaborn) (24.1)\n",
      "Requirement already satisfied: pillow>=8 in c:\\users\\andma\\appdata\\local\\programs\\python\\python312\\lib\\site-packages (from matplotlib!=3.6.1,>=3.4->seaborn) (10.4.0)\n",
      "Requirement already satisfied: pyparsing>=2.3.1 in c:\\users\\andma\\appdata\\local\\programs\\python\\python312\\lib\\site-packages (from matplotlib!=3.6.1,>=3.4->seaborn) (3.1.4)\n",
      "Requirement already satisfied: python-dateutil>=2.7 in c:\\users\\andma\\appdata\\local\\programs\\python\\python312\\lib\\site-packages (from matplotlib!=3.6.1,>=3.4->seaborn) (2.9.0.post0)\n",
      "Requirement already satisfied: pytz>=2020.1 in c:\\users\\andma\\appdata\\local\\programs\\python\\python312\\lib\\site-packages (from pandas>=1.2->seaborn) (2024.1)\n",
      "Requirement already satisfied: tzdata>=2022.7 in c:\\users\\andma\\appdata\\local\\programs\\python\\python312\\lib\\site-packages (from pandas>=1.2->seaborn) (2024.1)\n",
      "Requirement already satisfied: six>=1.5 in c:\\users\\andma\\appdata\\local\\programs\\python\\python312\\lib\\site-packages (from python-dateutil>=2.7->matplotlib!=3.6.1,>=3.4->seaborn) (1.16.0)\n"
     ]
    },
    {
     "ename": "ValueError",
     "evalue": "`data` and `annot` must have same shape.",
     "output_type": "error",
     "traceback": [
      "\u001b[1;31m---------------------------------------------------------------------------\u001b[0m",
      "\u001b[1;31mValueError\u001b[0m                                Traceback (most recent call last)",
      "Cell \u001b[1;32mIn[41], line 14\u001b[0m\n\u001b[0;32m     11\u001b[0m     plt\u001b[38;5;241m.\u001b[39mshow()\n\u001b[0;32m     13\u001b[0m \u001b[38;5;66;03m# Example usage\u001b[39;00m\n\u001b[1;32m---> 14\u001b[0m \u001b[43mheatmap_visualization\u001b[49m\u001b[43m(\u001b[49m\u001b[43mlotto_results\u001b[49m\u001b[43m)\u001b[49m\n",
      "Cell \u001b[1;32mIn[41], line 9\u001b[0m, in \u001b[0;36mheatmap_visualization\u001b[1;34m(lotto_data)\u001b[0m\n\u001b[0;32m      6\u001b[0m numbers, frequencies \u001b[38;5;241m=\u001b[39m \u001b[38;5;28mzip\u001b[39m(\u001b[38;5;241m*\u001b[39m\u001b[38;5;28msorted\u001b[39m(number_frequency\u001b[38;5;241m.\u001b[39mitems()))\n\u001b[0;32m      8\u001b[0m plt\u001b[38;5;241m.\u001b[39mfigure(figsize\u001b[38;5;241m=\u001b[39m(\u001b[38;5;241m10\u001b[39m, \u001b[38;5;241m8\u001b[39m))\n\u001b[1;32m----> 9\u001b[0m \u001b[43msns\u001b[49m\u001b[38;5;241;43m.\u001b[39;49m\u001b[43mheatmap\u001b[49m\u001b[43m(\u001b[49m\u001b[43m[\u001b[49m\u001b[43mfrequencies\u001b[49m\u001b[43m]\u001b[49m\u001b[43m,\u001b[49m\u001b[43m \u001b[49m\u001b[43mannot\u001b[49m\u001b[38;5;241;43m=\u001b[39;49m\u001b[43mnumbers\u001b[49m\u001b[43m,\u001b[49m\u001b[43m \u001b[49m\u001b[43mcmap\u001b[49m\u001b[38;5;241;43m=\u001b[39;49m\u001b[38;5;124;43m\"\u001b[39;49m\u001b[38;5;124;43mYlGnBu\u001b[39;49m\u001b[38;5;124;43m\"\u001b[39;49m\u001b[43m,\u001b[49m\u001b[43m \u001b[49m\u001b[43mcbar\u001b[49m\u001b[38;5;241;43m=\u001b[39;49m\u001b[38;5;28;43;01mTrue\u001b[39;49;00m\u001b[43m,\u001b[49m\u001b[43m \u001b[49m\u001b[43mfmt\u001b[49m\u001b[38;5;241;43m=\u001b[39;49m\u001b[38;5;124;43m\"\u001b[39;49m\u001b[38;5;124;43md\u001b[39;49m\u001b[38;5;124;43m\"\u001b[39;49m\u001b[43m)\u001b[49m\n\u001b[0;32m     10\u001b[0m plt\u001b[38;5;241m.\u001b[39mtitle(\u001b[38;5;124m'\u001b[39m\u001b[38;5;124mHeatmap of Lotto Number Frequencies\u001b[39m\u001b[38;5;124m'\u001b[39m)\n\u001b[0;32m     11\u001b[0m plt\u001b[38;5;241m.\u001b[39mshow()\n",
      "File \u001b[1;32m~\\AppData\\Local\\Programs\\Python\\Python312\\Lib\\site-packages\\seaborn\\matrix.py:446\u001b[0m, in \u001b[0;36mheatmap\u001b[1;34m(data, vmin, vmax, cmap, center, robust, annot, fmt, annot_kws, linewidths, linecolor, cbar, cbar_kws, cbar_ax, square, xticklabels, yticklabels, mask, ax, **kwargs)\u001b[0m\n\u001b[0;32m    365\u001b[0m \u001b[38;5;250m\u001b[39m\u001b[38;5;124;03m\"\"\"Plot rectangular data as a color-encoded matrix.\u001b[39;00m\n\u001b[0;32m    366\u001b[0m \n\u001b[0;32m    367\u001b[0m \u001b[38;5;124;03mThis is an Axes-level function and will draw the heatmap into the\u001b[39;00m\n\u001b[1;32m   (...)\u001b[0m\n\u001b[0;32m    443\u001b[0m \n\u001b[0;32m    444\u001b[0m \u001b[38;5;124;03m\"\"\"\u001b[39;00m\n\u001b[0;32m    445\u001b[0m \u001b[38;5;66;03m# Initialize the plotter object\u001b[39;00m\n\u001b[1;32m--> 446\u001b[0m plotter \u001b[38;5;241m=\u001b[39m \u001b[43m_HeatMapper\u001b[49m\u001b[43m(\u001b[49m\u001b[43mdata\u001b[49m\u001b[43m,\u001b[49m\u001b[43m \u001b[49m\u001b[43mvmin\u001b[49m\u001b[43m,\u001b[49m\u001b[43m \u001b[49m\u001b[43mvmax\u001b[49m\u001b[43m,\u001b[49m\u001b[43m \u001b[49m\u001b[43mcmap\u001b[49m\u001b[43m,\u001b[49m\u001b[43m \u001b[49m\u001b[43mcenter\u001b[49m\u001b[43m,\u001b[49m\u001b[43m \u001b[49m\u001b[43mrobust\u001b[49m\u001b[43m,\u001b[49m\u001b[43m \u001b[49m\u001b[43mannot\u001b[49m\u001b[43m,\u001b[49m\u001b[43m \u001b[49m\u001b[43mfmt\u001b[49m\u001b[43m,\u001b[49m\n\u001b[0;32m    447\u001b[0m \u001b[43m                      \u001b[49m\u001b[43mannot_kws\u001b[49m\u001b[43m,\u001b[49m\u001b[43m \u001b[49m\u001b[43mcbar\u001b[49m\u001b[43m,\u001b[49m\u001b[43m \u001b[49m\u001b[43mcbar_kws\u001b[49m\u001b[43m,\u001b[49m\u001b[43m \u001b[49m\u001b[43mxticklabels\u001b[49m\u001b[43m,\u001b[49m\n\u001b[0;32m    448\u001b[0m \u001b[43m                      \u001b[49m\u001b[43myticklabels\u001b[49m\u001b[43m,\u001b[49m\u001b[43m \u001b[49m\u001b[43mmask\u001b[49m\u001b[43m)\u001b[49m\n\u001b[0;32m    450\u001b[0m \u001b[38;5;66;03m# Add the pcolormesh kwargs here\u001b[39;00m\n\u001b[0;32m    451\u001b[0m kwargs[\u001b[38;5;124m\"\u001b[39m\u001b[38;5;124mlinewidths\u001b[39m\u001b[38;5;124m\"\u001b[39m] \u001b[38;5;241m=\u001b[39m linewidths\n",
      "File \u001b[1;32m~\\AppData\\Local\\Programs\\Python\\Python312\\Lib\\site-packages\\seaborn\\matrix.py:177\u001b[0m, in \u001b[0;36m_HeatMapper.__init__\u001b[1;34m(self, data, vmin, vmax, cmap, center, robust, annot, fmt, annot_kws, cbar, cbar_kws, xticklabels, yticklabels, mask)\u001b[0m\n\u001b[0;32m    175\u001b[0m         \u001b[38;5;28;01mif\u001b[39;00m annot_data\u001b[38;5;241m.\u001b[39mshape \u001b[38;5;241m!=\u001b[39m plot_data\u001b[38;5;241m.\u001b[39mshape:\n\u001b[0;32m    176\u001b[0m             err \u001b[38;5;241m=\u001b[39m \u001b[38;5;124m\"\u001b[39m\u001b[38;5;124m`data` and `annot` must have same shape.\u001b[39m\u001b[38;5;124m\"\u001b[39m\n\u001b[1;32m--> 177\u001b[0m             \u001b[38;5;28;01mraise\u001b[39;00m \u001b[38;5;167;01mValueError\u001b[39;00m(err)\n\u001b[0;32m    178\u001b[0m     annot \u001b[38;5;241m=\u001b[39m \u001b[38;5;28;01mTrue\u001b[39;00m\n\u001b[0;32m    180\u001b[0m \u001b[38;5;66;03m# Save other attributes to the object\u001b[39;00m\n",
      "\u001b[1;31mValueError\u001b[0m: `data` and `annot` must have same shape."
     ]
    },
    {
     "data": {
      "text/plain": [
       "<Figure size 1000x800 with 0 Axes>"
      ]
     },
     "metadata": {},
     "output_type": "display_data"
    }
   ],
   "source": [
    "!pip install seaborn\n",
    "import seaborn as sns\n",
    "\n",
    "def heatmap_visualization(lotto_data):\n",
    "    number_frequency = frequency_analysis(lotto_data)\n",
    "    numbers, frequencies = zip(*sorted(number_frequency.items()))\n",
    "\n",
    "    plt.figure(figsize=(10, 8))\n",
    "    sns.heatmap([frequencies], annot=numbers, cmap=\"YlGnBu\", cbar=True, fmt=\"d\")\n",
    "    plt.title('Heatmap of Lotto Number Frequencies')\n",
    "    plt.show()\n",
    "\n",
    "# Example usage\n",
    "heatmap_visualization(lotto_results)\n"
   ]
  },
  {
   "cell_type": "markdown",
   "id": "34cef8245515b3a8",
   "metadata": {},
   "source": [
    "## Print the five more and less probable numbers"
   ]
  },
  {
   "cell_type": "code",
   "execution_count": null,
   "id": "d5509886045fbebf",
   "metadata": {
    "ExecuteTime": {
     "end_time": "2024-08-30T14:11:03.785482300Z",
     "start_time": "2024-08-30T14:10:38.800617Z"
    },
    "collapsed": false,
    "jupyter": {
     "outputs_hidden": false
    }
   },
   "outputs": [],
   "source": [
    "# Sorting the numbers by frequency in descending order\n",
    "most_frequent_numbers = sorted(number_frequency, key=number_frequency.get, reverse=True)[:5]\n",
    "\n",
    "# Sorting the numbers by frequency in ascending order\n",
    "least_frequent_numbers = sorted(number_frequency, key=number_frequency.get)[:5]\n",
    "\n",
    "print(\"5 Most Probable Numbers:\", most_frequent_numbers)\n",
    "print(\"5 Least Probable Numbers:\", least_frequent_numbers)"
   ]
  },
  {
   "cell_type": "markdown",
   "id": "4a79d4316a8cf5f2",
   "metadata": {
    "collapsed": false,
    "jupyter": {
     "outputs_hidden": false
    }
   },
   "source": [
    "## Verifying if the Most or Least Probable Sets of Five Numbers Have Been Previously Drawn"
   ]
  },
  {
   "cell_type": "code",
   "execution_count": null,
   "id": "de759a11ae45962e",
   "metadata": {
    "ExecuteTime": {
     "end_time": "2024-08-30T14:11:03.786480900Z",
     "start_time": "2024-08-30T14:10:38.839775Z"
    },
    "collapsed": false,
    "jupyter": {
     "outputs_hidden": false
    }
   },
   "outputs": [],
   "source": [
    "def check_occurrence(lotto_data, numbers_set):\n",
    "    occurrences = []\n",
    "    for play_number, play_data in lotto_data.items():\n",
    "        if set(play_data['numbers']) == numbers_set:\n",
    "            occurrences.append((play_number, play_data['date']))\n",
    "    return occurrences\n",
    "\n",
    "# Most and least probable numbers\n",
    "most_probable_numbers = set(most_frequent_numbers)\n",
    "least_probable_numbers = set(least_frequent_numbers)\n",
    "\n",
    "# Check if these sets ever occurred in the history\n",
    "most_probable_occurrences = check_occurrence(lotto_results, most_probable_numbers)\n",
    "least_probable_occurrences = check_occurrence(lotto_results, least_probable_numbers)\n",
    "\n",
    "print(\"Occurrences of Most Probable Numbers:\")\n",
    "if most_probable_occurrences:\n",
    "    for play_number, date in most_probable_occurrences:\n",
    "        print(f\"Play Number: {play_number}, Date: {date}\")\n",
    "else:\n",
    "    print(\"None\")\n",
    "\n",
    "print(\"\\nOccurrences of Least Probable Numbers:\")\n",
    "if least_probable_occurrences:\n",
    "    for play_number, date in least_probable_occurrences:\n",
    "        print(f\"Play Number: {play_number}, Date: {date}\")\n",
    "else:\n",
    "    print(\"None\")\n"
   ]
  },
  {
   "cell_type": "markdown",
   "id": "a17be086fc4e2ee5",
   "metadata": {
    "collapsed": false,
    "jupyter": {
     "outputs_hidden": false
    }
   },
   "source": [
    "## Comprehensive Analysis of Lotto Number Combinations: Pairs, Triplets, and Quadruplets"
   ]
  },
  {
   "cell_type": "code",
   "execution_count": 42,
   "id": "f54e4d95f5ec1579",
   "metadata": {
    "ExecuteTime": {
     "end_time": "2024-08-30T14:11:03.786480900Z",
     "start_time": "2024-08-30T14:10:38.877532Z"
    },
    "collapsed": false,
    "jupyter": {
     "outputs_hidden": false
    }
   },
   "outputs": [
    {
     "name": "stdout",
     "output_type": "stream",
     "text": [
      "\n",
      "Analyzing 2-number combinations:\n",
      "Combination: (2, 13), Frequency: 7\n",
      "Combination: (2, 6), Frequency: 7\n",
      "Combination: (2, 18), Frequency: 7\n",
      "Combination: (2, 38), Frequency: 6\n",
      "Combination: (17, 32), Frequency: 6\n",
      "Combination: (2, 42), Frequency: 5\n",
      "Combination: (30, 42), Frequency: 5\n",
      "Combination: (23, 28), Frequency: 5\n",
      "Combination: (2, 17), Frequency: 5\n",
      "Combination: (13, 47), Frequency: 5\n",
      "\n",
      "Analyzing 3-number combinations:\n",
      "Combination: (2, 17, 26), Frequency: 3\n",
      "Combination: (2, 6, 38), Frequency: 3\n",
      "Combination: (18, 20, 47), Frequency: 3\n",
      "Combination: (8, 12, 21), Frequency: 3\n",
      "Combination: (15, 37, 49), Frequency: 2\n",
      "Combination: (2, 5, 42), Frequency: 2\n",
      "Combination: (2, 9, 30), Frequency: 2\n",
      "Combination: (2, 30, 42), Frequency: 2\n",
      "Combination: (4, 20, 23), Frequency: 2\n",
      "Combination: (4, 28, 48), Frequency: 2\n",
      "\n",
      "Analyzing 4-number combinations:\n",
      "Combination: (12, 31, 39, 41), Frequency: 2\n",
      "Combination: (30, 42, 47, 48), Frequency: 2\n",
      "Combination: (2, 18, 20, 47), Frequency: 2\n",
      "Combination: (8, 12, 17, 21), Frequency: 2\n",
      "Combination: (15, 18, 28, 30), Frequency: 1\n",
      "Combination: (15, 18, 28, 37), Frequency: 1\n",
      "Combination: (15, 18, 28, 49), Frequency: 1\n",
      "Combination: (15, 18, 30, 37), Frequency: 1\n",
      "Combination: (15, 18, 30, 49), Frequency: 1\n",
      "Combination: (15, 18, 37, 49), Frequency: 1\n"
     ]
    }
   ],
   "source": [
    "def analyze_combinations(lotto_data, combination_size=2):\n",
    "    \"\"\"\n",
    "    Analyzes the frequency of combinations (like pairs, triplets, quadruplets) in the lotto data.\n",
    "\n",
    "    :param lotto_data: Dictionary of lotto results.\n",
    "    :param combination_size: Size of the combinations to analyze (2 for pairs, 3 for triplets, 4 for quadruplets).\n",
    "    :return: Counter object with the frequency of each combination.\n",
    "    \"\"\"\n",
    "    all_combinations = []\n",
    "\n",
    "    # Iterate through each draw and find combinations\n",
    "    for play_data in lotto_data.values():\n",
    "        numbers = play_data['numbers']\n",
    "        for combo in combinations(numbers, combination_size):\n",
    "            all_combinations.append(tuple(sorted(combo)))\n",
    "\n",
    "    return Counter(all_combinations)\n",
    "\n",
    "# Example usage\n",
    "for combination_size in [2, 3, 4]:  # For pairs, triplets, and quadruplets\n",
    "    print(f\"\\nAnalyzing {combination_size}-number combinations:\")\n",
    "    combinations_frequency = analyze_combinations(lotto_results, combination_size)\n",
    "\n",
    "    # Display the most common combinations\n",
    "    for combo, frequency in combinations_frequency.most_common(10):\n",
    "        print(f\"Combination: {combo}, Frequency: {frequency}\")\n"
   ]
  },
  {
   "cell_type": "markdown",
   "id": "cb03331bb37a382e",
   "metadata": {
    "collapsed": false,
    "jupyter": {
     "outputs_hidden": false
    }
   },
   "source": [
    "## Detailed Analysis of Lotto Number Distributions and Trends"
   ]
  },
  {
   "cell_type": "markdown",
   "id": "6699251e3000564e",
   "metadata": {
    "collapsed": false,
    "jupyter": {
     "outputs_hidden": false
    }
   },
   "source": [
    "Change bin size for broader view or more granularity"
   ]
  },
  {
   "cell_type": "code",
   "execution_count": null,
   "id": "b2e9b544c5ed4fa6",
   "metadata": {
    "ExecuteTime": {
     "end_time": "2024-08-30T14:11:03.786480900Z",
     "start_time": "2024-08-30T14:10:38.893597Z"
    }
   },
   "outputs": [],
   "source": [
    "def plot_number_distribution(lotto_data, bin_size=10):\n",
    "    \"\"\"\n",
    "    Plots the distribution of lotto numbers with more detailed x-axis.\n",
    "\n",
    "    :param lotto_data: Dictionary of lotto results.\n",
    "    :param bin_size: Size of each bin in the histogram, default is 1 for finer detail.\n",
    "    \"\"\"\n",
    "    all_numbers = []\n",
    "    for play_data in lotto_data.values():\n",
    "        all_numbers.extend(play_data['numbers'])\n",
    "\n",
    "    # Determine the range of numbers\n",
    "    min_number = min(all_numbers)\n",
    "    max_number = max(all_numbers)\n",
    "\n",
    "    # Create a histogram to visualize the distribution\n",
    "    plt.figure(figsize=(12, 6))\n",
    "    counts, bins, patches = plt.hist(all_numbers, bins=range(min_number, max_number + bin_size, bin_size), edgecolor='black', alpha=0.7)\n",
    "\n",
    "    # Adjust the x-axis to cover the entire range of bins\n",
    "    plt.xticks(range(min_number, max_number + bin_size, bin_size))\n",
    "\n",
    "    plt.xlabel('Number')\n",
    "    plt.ylabel('Frequency')\n",
    "    plt.title('Detailed Distribution of Lotto Numbers')\n",
    "    plt.grid(axis='y', alpha=0.75)\n",
    "    plt.show()\n",
    "\n",
    "    # Sorting and printing bin frequencies from highest to lowest\n",
    "    bin_frequencies = Counter({f'{int(bins[i])}-{int(bins[i+1])-1}': int(counts[i]) for i in range(len(counts))})\n",
    "    for bin_range, frequency in bin_frequencies.most_common():\n",
    "        print(f\"Range: {bin_range}, Frequency: {frequency}\")\n",
    "\n",
    "# Example usage\n",
    "plot_number_distribution(lotto_results)"
   ]
  }
 ],
 "metadata": {
  "kernelspec": {
   "display_name": "Python 3 (ipykernel)",
   "language": "python",
   "name": "python3"
  },
  "language_info": {
   "codemirror_mode": {
    "name": "ipython",
    "version": 3
   },
   "file_extension": ".py",
   "mimetype": "text/x-python",
   "name": "python",
   "nbconvert_exporter": "python",
   "pygments_lexer": "ipython3",
   "version": "3.12.5"
  }
 },
 "nbformat": 4,
 "nbformat_minor": 5
}

{
 "cells": [
  {
   "cell_type": "markdown",
   "id": "105e0e7eae3fe3e7",
   "metadata": {},
   "source": [
    "# Polish Lotto Extraction Analysis\n",
    "This notebook contains code to fetch lotto extraction data, perform frequency analysis, and visualize the results with a color gradient.\n",
    "\n",
    "NOTE: Please download [here](http://www.mbnet.com.pl/wyniki.htm) the txt file for the game you want, save it in the repository main directory with the name lotto.txt, miniLotto.txt, lottoPlus.txt  "
   ]
  },
  {
   "cell_type": "markdown",
   "id": "c0eafc360ccef721",
   "metadata": {},
   "source": [
    "## Importing Required Libraries"
   ]
  },
  {
   "cell_type": "code",
   "id": "c045fc3c729cb9b3",
   "metadata": {
    "collapsed": false,
    "jupyter": {
     "outputs_hidden": false
    },
    "ExecuteTime": {
     "end_time": "2024-08-30T13:04:13.306700Z",
     "start_time": "2024-08-30T13:04:13.303672Z"
    }
   },
   "source": [
    "import matplotlib.pyplot as plt\n",
    "import numpy as np\n",
    "from itertools import combinations\n",
    "from collections import Counter\n",
    "import requests\n",
    "from datetime import datetime"
   ],
   "outputs": [],
   "execution_count": 64
  },
  {
   "metadata": {},
   "cell_type": "markdown",
   "source": "## Download latest txt files",
   "id": "86db99084f878546"
  },
  {
   "metadata": {
    "ExecuteTime": {
     "end_time": "2024-08-30T13:04:13.646183Z",
     "start_time": "2024-08-30T13:04:13.323707Z"
    }
   },
   "cell_type": "code",
   "source": [
    "# Define names\n",
    "LOTTO = \"lotto.txt\"\n",
    "LOTTOPLUS = \"lottoPlus.txt\"\n",
    "MINILOTTO = \"miniLotto.txt\"\n",
    "\n",
    "# Define the URLs and corresponding file names\n",
    "files = {\n",
    "    \"http://www.mbnet.com.pl/dl.txt\": LOTTO,\n",
    "    \"http://www.mbnet.com.pl/dl_plus.txt\": LOTTOPLUS,\n",
    "    \"http://www.mbnet.com.pl/el.txt\": MINILOTTO\n",
    "}\n",
    "\n",
    "# Iterate over the dictionary and download each file\n",
    "for url, filename in files.items():\n",
    "    # Send a GET request to download the file\n",
    "    response = requests.get(url)\n",
    "\n",
    "    # Check if the request was successful\n",
    "    if response.status_code == 200:\n",
    "        # Write the content to the respective file\n",
    "        with open(filename, \"wb\") as file:\n",
    "            file.write(response.content)\n",
    "        print(f\"File downloaded and renamed to '{filename}'.\")\n",
    "    else:\n",
    "        print(f\"Failed to download the file from {url}. Status code:\", response.status_code)"
   ],
   "id": "10d1ca6d097045c4",
   "outputs": [
    {
     "name": "stdout",
     "output_type": "stream",
     "text": [
      "File downloaded and renamed to 'lotto.txt'.\n",
      "File downloaded and renamed to 'lottoPlus.txt'.\n",
      "File downloaded and renamed to 'miniLotto.txt'.\n"
     ]
    }
   ],
   "execution_count": 65
  },
  {
   "metadata": {},
   "cell_type": "markdown",
   "source": "## Choose the file with the lotto number list",
   "id": "a7cdb65126aea2f0"
  },
  {
   "metadata": {
    "ExecuteTime": {
     "end_time": "2024-08-30T13:04:13.731092Z",
     "start_time": "2024-08-30T13:04:13.728127Z"
    }
   },
   "cell_type": "code",
   "source": [
    "# Path to the txt file\n",
    "file_path = MINILOTTO\n"
   ],
   "id": "deb225aa682dd907",
   "outputs": [],
   "execution_count": 66
  },
  {
   "metadata": {
    "collapsed": false,
    "jupyter": {
     "outputs_hidden": false
    }
   },
   "cell_type": "markdown",
   "source": "## Function to Fetch Lotto Data",
   "id": "277272074a06f328"
  },
  {
   "metadata": {
    "collapsed": false,
    "jupyter": {
     "outputs_hidden": false
    },
    "ExecuteTime": {
     "end_time": "2024-08-30T13:04:13.783962Z",
     "start_time": "2024-08-30T13:04:13.770936Z"
    }
   },
   "cell_type": "code",
   "source": [
    "def read_lotto_data_from_txt(file_path):\n",
    "    try:\n",
    "        with open(file_path, 'r') as file:\n",
    "            lines = file.readlines()\n",
    "\n",
    "        lotto_data = {}\n",
    "        for line in lines:\n",
    "            # Splitting by space after the period to separate the draw number, date, and numbers\n",
    "            parts = line.split('. ', 1)\n",
    "            play_number = int(parts[0])\n",
    "\n",
    "            # Splitting by space to separate the date and numbers\n",
    "            date_and_numbers = parts[1].split(' ', 1)\n",
    "            formatted_date = date_and_numbers[0]\n",
    "            numbers = [int(num) for num in date_and_numbers[1].strip().split(',')]\n",
    "\n",
    "            lotto_data[play_number] = {\n",
    "                'date': formatted_date,\n",
    "                'gametype': 'Minilotto',\n",
    "                'numbers': numbers  # Now numbers are stored as integers\n",
    "            }\n",
    "\n",
    "        return lotto_data\n",
    "\n",
    "    except Exception as e:\n",
    "        print(f'Error reading data: {e}')\n",
    "\n",
    "# Fetching lotto results from the txt file\n",
    "lotto_results = read_lotto_data_from_txt(file_path)"
   ],
   "id": "670b5bb30141351c",
   "outputs": [],
   "execution_count": 67
  },
  {
   "metadata": {},
   "cell_type": "markdown",
   "source": "## Function to filter by data range",
   "id": "20b664fa8da03a41"
  },
  {
   "cell_type": "code",
   "id": "7433e1794d95b400",
   "metadata": {
    "ExecuteTime": {
     "end_time": "2024-08-30T13:04:13.795997Z",
     "start_time": "2024-08-30T13:04:13.792818Z"
    }
   },
   "source": [
    "def filter_lotto_results_by_date(lotto_results, start_date, end_date):\n",
    "    \"\"\"\n",
    "    Filters the lotto results to include only those within the specified date range.\n",
    "\n",
    "    :param lotto_results: Dictionary of lotto results.\n",
    "    :param start_date: String of start date in 'dd.mm.yyyy' format.\n",
    "    :param end_date: String of end date in 'dd.mm.yyyy' format.\n",
    "    :return: Filtered dictionary of lotto results.\n",
    "    \"\"\"\n",
    "    # Convert start_date and end_date to datetime objects\n",
    "    start_date = datetime.strptime(start_date, \"%d.%m.%Y\")\n",
    "    end_date = datetime.strptime(end_date, \"%d.%m.%Y\")\n",
    "\n",
    "    # Filter the results\n",
    "    filtered_results = {}\n",
    "    for play_number, play_data in lotto_results.items():\n",
    "        play_date = datetime.strptime(play_data['date'], \"%d.%m.%Y\")\n",
    "        if start_date <= play_date <= end_date:\n",
    "            filtered_results[play_number] = play_data\n",
    "\n",
    "    return filtered_results\n"
   ],
   "outputs": [],
   "execution_count": 68
  },
  {
   "cell_type": "markdown",
   "id": "48ef55e51a3304c9",
   "metadata": {},
   "source": [
    "## Select data range"
   ]
  },
  {
   "cell_type": "code",
   "id": "15144d6da7f2e792",
   "metadata": {
    "collapsed": false,
    "jupyter": {
     "outputs_hidden": false
    },
    "ExecuteTime": {
     "end_time": "2024-08-30T13:04:13.833091Z",
     "start_time": "2024-08-30T13:04:13.803977Z"
    }
   },
   "source": [
    "# Example usage\n",
    "start_date = \"01.01.2024\"\n",
    "end_date = \"30.12.2024\"\n",
    "lotto_results = filter_lotto_results_by_date(lotto_results, start_date, end_date)\n",
    "\n",
    "# Now, filtered_lotto_results contains only the plays between the start_date and end_date"
   ],
   "outputs": [],
   "execution_count": 69
  },
  {
   "cell_type": "markdown",
   "id": "77ce81ad56b63944",
   "metadata": {
    "collapsed": false,
    "jupyter": {
     "outputs_hidden": false
    }
   },
   "source": [
    "## Total draws in the selected period"
   ]
  },
  {
   "cell_type": "code",
   "id": "d9a94281efcbf500",
   "metadata": {
    "collapsed": false,
    "jupyter": {
     "outputs_hidden": false
    },
    "ExecuteTime": {
     "end_time": "2024-08-30T13:04:13.843212Z",
     "start_time": "2024-08-30T13:04:13.840786Z"
    }
   },
   "source": [
    "total_draws = len(lotto_results)\n",
    "print(f\"{total_draws} draws from {start_date} to {end_date}\")"
   ],
   "outputs": [
    {
     "name": "stdout",
     "output_type": "stream",
     "text": [
      "241 draws from 01.01.2024 to 30.12.2024\n"
     ]
    }
   ],
   "execution_count": 70
  },
  {
   "cell_type": "markdown",
   "id": "3a97d42054f74ba9",
   "metadata": {
    "collapsed": false,
    "jupyter": {
     "outputs_hidden": false
    }
   },
   "source": [
    "## Last 10 draws"
   ]
  },
  {
   "cell_type": "code",
   "id": "4a5f980481535160",
   "metadata": {
    "collapsed": false,
    "jupyter": {
     "outputs_hidden": false
    },
    "ExecuteTime": {
     "end_time": "2024-08-30T13:04:13.853583Z",
     "start_time": "2024-08-30T13:04:13.850572Z"
    }
   },
   "source": [
    "# Displaying the last 10 (newest) results from lotto_results dictionary\n",
    "last_10_plays = sorted(lotto_results.keys())[-10:]\n",
    "for play_number in last_10_plays:\n",
    "    result = lotto_results[play_number]\n",
    "    print(f\"Play Number: {play_number}, Date: {result['date']}, Numbers: {result['numbers']}\")\n"
   ],
   "outputs": [
    {
     "name": "stdout",
     "output_type": "stream",
     "text": [
      "Play Number: 6558, Date: 20.08.2024, Numbers: [6, 7, 11, 14, 26]\n",
      "Play Number: 6559, Date: 21.08.2024, Numbers: [3, 9, 15, 30, 41]\n",
      "Play Number: 6560, Date: 22.08.2024, Numbers: [1, 11, 32, 41, 42]\n",
      "Play Number: 6561, Date: 23.08.2024, Numbers: [7, 18, 20, 29, 41]\n",
      "Play Number: 6562, Date: 24.08.2024, Numbers: [7, 15, 24, 35, 36]\n",
      "Play Number: 6563, Date: 25.08.2024, Numbers: [7, 13, 37, 39, 41]\n",
      "Play Number: 6564, Date: 26.08.2024, Numbers: [2, 9, 19, 29, 41]\n",
      "Play Number: 6565, Date: 27.08.2024, Numbers: [12, 25, 32, 33, 34]\n",
      "Play Number: 6566, Date: 28.08.2024, Numbers: [12, 22, 25, 29, 35]\n",
      "Play Number: 6567, Date: 29.08.2024, Numbers: [15, 21, 26, 30, 41]\n"
     ]
    }
   ],
   "execution_count": 71
  },
  {
   "cell_type": "markdown",
   "id": "c35f6ab4e9f953d",
   "metadata": {
    "collapsed": false,
    "jupyter": {
     "outputs_hidden": false
    }
   },
   "source": [
    "## Frequency Analysis"
   ]
  },
  {
   "cell_type": "code",
   "id": "45576cf1946f16e5",
   "metadata": {
    "collapsed": false,
    "jupyter": {
     "outputs_hidden": false
    },
    "ExecuteTime": {
     "end_time": "2024-08-30T13:04:14.036818Z",
     "start_time": "2024-08-30T13:04:13.869104Z"
    }
   },
   "source": [
    "def frequency_analysis(lotto_data):\n",
    "    numbers = []\n",
    "    for play in lotto_data.values():\n",
    "        numbers.extend(play['numbers'])\n",
    "    return Counter(numbers)\n",
    "\n",
    "number_frequency = frequency_analysis(lotto_results)\n",
    "sorted_numbers = sorted(number_frequency.items(), key=lambda x: x[1])\n",
    "numbers, frequencies = zip(*sorted_numbers)\n",
    "\n",
    "# Define nine thresholds for the deciles\n",
    "thresholds = np.quantile(frequencies, np.linspace(1/8, 7/8, 7))\n",
    "\n",
    "# Define 10 colors for each decile\n",
    "octile_colors = [\n",
    "    'darkblue',    # Least frequent - coldest\n",
    "    'blue',\n",
    "    'lightblue',\n",
    "    'green',\n",
    "    'lightgreen',\n",
    "    'yellow',\n",
    "    'orange',\n",
    "    'red'        # Most frequent - hottest\n",
    "]\n",
    "\n",
    "# Assign a color based on which decile each frequency falls into\n",
    "colors = []\n",
    "for freq in frequencies:\n",
    "    for i, threshold in enumerate(thresholds):\n",
    "        if freq <= threshold:\n",
    "            colors.append(octile_colors[i])\n",
    "            break\n",
    "    else:\n",
    "        colors.append(octile_colors[-1])  # Assign the last color to the top decile\n",
    "\n",
    "# Plotting the results with the assigned colors\n",
    "plt.figure(figsize=(15, 5))\n",
    "plt.bar(numbers, frequencies, color=colors)\n",
    "plt.xlabel('Number')\n",
    "plt.ylabel('Frequency')\n",
    "plt.title('Lotto Number Frequency')\n",
    "plt.xticks(numbers, rotation=90)\n",
    "plt.show()"
   ],
   "outputs": [
    {
     "data": {
      "text/plain": [
       "<Figure size 1500x500 with 1 Axes>"
      ],
      "image/png": "[encoded data removed]"
     },
     "metadata": {},
     "output_type": "display_data"
    }
   ],
   "execution_count": 72
  },
  {
   "cell_type": "markdown",
   "id": "37c0e1171b4424a9",
   "metadata": {
    "collapsed": false,
    "jupyter": {
     "outputs_hidden": false
    }
   },
   "source": [
    "## Print the five more and less probable numbers"
   ]
  },
  {
   "cell_type": "code",
   "id": "d5509886045fbebf",
   "metadata": {
    "collapsed": false,
    "jupyter": {
     "outputs_hidden": false
    },
    "ExecuteTime": {
     "end_time": "2024-08-30T13:04:14.047188Z",
     "start_time": "2024-08-30T13:04:14.044571Z"
    }
   },
   "source": [
    "# Sorting the numbers by frequency in descending order\n",
    "most_frequent_numbers = sorted(number_frequency, key=number_frequency.get, reverse=True)[:5]\n",
    "\n",
    "# Sorting the numbers by frequency in ascending order\n",
    "least_frequent_numbers = sorted(number_frequency, key=number_frequency.get)[:5]\n",
    "\n",
    "print(\"5 Most Probable Numbers:\", most_frequent_numbers)\n",
    "print(\"5 Least Probable Numbers:\", least_frequent_numbers)"
   ],
   "outputs": [
    {
     "name": "stdout",
     "output_type": "stream",
     "text": [
      "5 Most Probable Numbers: [41, 33, 26, 39, 36]\n",
      "5 Least Probable Numbers: [40, 8, 5, 22, 42]\n"
     ]
    }
   ],
   "execution_count": 73
  },
  {
   "cell_type": "markdown",
   "id": "4a79d4316a8cf5f2",
   "metadata": {
    "collapsed": false,
    "jupyter": {
     "outputs_hidden": false
    }
   },
   "source": [
    "## Verifying if the Most or Least Probable Sets of Five Numbers Have Been Previously Drawn"
   ]
  },
  {
   "cell_type": "code",
   "id": "de759a11ae45962e",
   "metadata": {
    "collapsed": false,
    "jupyter": {
     "outputs_hidden": false
    },
    "ExecuteTime": {
     "end_time": "2024-08-30T13:04:14.074250Z",
     "start_time": "2024-08-30T13:04:14.069755Z"
    }
   },
   "source": [
    "def check_occurrence(lotto_data, numbers_set):\n",
    "    occurrences = []\n",
    "    for play_number, play_data in lotto_data.items():\n",
    "        if set(play_data['numbers']) == numbers_set:\n",
    "            occurrences.append((play_number, play_data['date']))\n",
    "    return occurrences\n",
    "\n",
    "# Most and least probable numbers\n",
    "most_probable_numbers = set(most_frequent_numbers)\n",
    "least_probable_numbers = set(least_frequent_numbers)\n",
    "\n",
    "# Check if these sets ever occurred in the history\n",
    "most_probable_occurrences = check_occurrence(lotto_results, most_probable_numbers)\n",
    "least_probable_occurrences = check_occurrence(lotto_results, least_probable_numbers)\n",
    "\n",
    "print(\"Occurrences of Most Probable Numbers:\")\n",
    "if most_probable_occurrences:\n",
    "    for play_number, date in most_probable_occurrences:\n",
    "        print(f\"Play Number: {play_number}, Date: {date}\")\n",
    "else:\n",
    "    print(\"None\")\n",
    "\n",
    "print(\"\\nOccurrences of Least Probable Numbers:\")\n",
    "if least_probable_occurrences:\n",
    "    for play_number, date in least_probable_occurrences:\n",
    "        print(f\"Play Number: {play_number}, Date: {date}\")\n",
    "else:\n",
    "    print(\"None\")\n"
   ],
   "outputs": [
    {
     "name": "stdout",
     "output_type": "stream",
     "text": [
      "Occurrences of Most Probable Numbers:\n",
      "None\n",
      "\n",
      "Occurrences of Least Probable Numbers:\n",
      "None\n"
     ]
    }
   ],
   "execution_count": 74
  },
  {
   "cell_type": "markdown",
   "id": "a17be086fc4e2ee5",
   "metadata": {
    "collapsed": false,
    "jupyter": {
     "outputs_hidden": false
    }
   },
   "source": [
    "## Comprehensive Analysis of Lotto Number Combinations: Pairs, Triplets, and Quadruplets"
   ]
  },
  {
   "cell_type": "code",
   "id": "f54e4d95f5ec1579",
   "metadata": {
    "collapsed": false,
    "jupyter": {
     "outputs_hidden": false
    },
    "ExecuteTime": {
     "end_time": "2024-08-30T13:04:14.087909Z",
     "start_time": "2024-08-30T13:04:14.081726Z"
    }
   },
   "source": [
    "def analyze_combinations(lotto_data, combination_size=2):\n",
    "    \"\"\"\n",
    "    Analyzes the frequency of combinations (like pairs, triplets, quadruplets) in the lotto data.\n",
    "\n",
    "    :param lotto_data: Dictionary of lotto results.\n",
    "    :param combination_size: Size of the combinations to analyze (2 for pairs, 3 for triplets, 4 for quadruplets).\n",
    "    :return: Counter object with the frequency of each combination.\n",
    "    \"\"\"\n",
    "    all_combinations = []\n",
    "\n",
    "    # Iterate through each draw and find combinations\n",
    "    for play_data in lotto_data.values():\n",
    "        numbers = play_data['numbers']\n",
    "        for combo in combinations(numbers, combination_size):\n",
    "            all_combinations.append(tuple(sorted(combo)))\n",
    "\n",
    "    return Counter(all_combinations)\n",
    "\n",
    "# Example usage\n",
    "for combination_size in [2, 3, 4]:  # For pairs, triplets, and quadruplets\n",
    "    print(f\"\\nAnalyzing {combination_size}-number combinations:\")\n",
    "    combinations_frequency = analyze_combinations(lotto_results, combination_size)\n",
    "\n",
    "    # Display the most common combinations\n",
    "    for combo, frequency in combinations_frequency.most_common(10):\n",
    "        print(f\"Combination: {combo}, Frequency: {frequency}\")\n"
   ],
   "outputs": [
    {
     "name": "stdout",
     "output_type": "stream",
     "text": [
      "\n",
      "Analyzing 2-number combinations:\n",
      "Combination: (25, 41), Frequency: 8\n",
      "Combination: (33, 37), Frequency: 8\n",
      "Combination: (1, 41), Frequency: 8\n",
      "Combination: (26, 31), Frequency: 8\n",
      "Combination: (3, 29), Frequency: 8\n",
      "Combination: (28, 33), Frequency: 7\n",
      "Combination: (16, 30), Frequency: 7\n",
      "Combination: (13, 37), Frequency: 7\n",
      "Combination: (15, 41), Frequency: 7\n",
      "Combination: (23, 34), Frequency: 7\n",
      "\n",
      "Analyzing 3-number combinations:\n",
      "Combination: (8, 17, 25), Frequency: 3\n",
      "Combination: (25, 28, 41), Frequency: 3\n",
      "Combination: (13, 22, 41), Frequency: 3\n",
      "Combination: (1, 6, 37), Frequency: 3\n",
      "Combination: (4, 19, 39), Frequency: 3\n",
      "Combination: (3, 16, 30), Frequency: 3\n",
      "Combination: (2, 17, 19), Frequency: 3\n",
      "Combination: (27, 35, 38), Frequency: 3\n",
      "Combination: (7, 18, 20), Frequency: 3\n",
      "Combination: (26, 31, 33), Frequency: 3\n",
      "\n",
      "Analyzing 4-number combinations:\n",
      "Combination: (4, 16, 28, 33), Frequency: 2\n",
      "Combination: (3, 13, 16, 30), Frequency: 2\n",
      "Combination: (7, 15, 41, 42), Frequency: 2\n",
      "Combination: (25, 28, 36, 41), Frequency: 2\n",
      "Combination: (20, 26, 31, 33), Frequency: 2\n",
      "Combination: (4, 12, 15, 21), Frequency: 2\n",
      "Combination: (3, 7, 29, 35), Frequency: 2\n",
      "Combination: (8, 10, 17, 25), Frequency: 1\n",
      "Combination: (8, 10, 17, 29), Frequency: 1\n",
      "Combination: (8, 10, 25, 29), Frequency: 1\n"
     ]
    }
   ],
   "execution_count": 75
  },
  {
   "cell_type": "markdown",
   "id": "cb03331bb37a382e",
   "metadata": {
    "collapsed": false,
    "jupyter": {
     "outputs_hidden": false
    }
   },
   "source": [
    "## Detailed Analysis of Lotto Number Distributions and Trends"
   ]
  },
  {
   "cell_type": "markdown",
   "id": "6699251e3000564e",
   "metadata": {
    "collapsed": false,
    "jupyter": {
     "outputs_hidden": false
    }
   },
   "source": [
    "Change bin size for broader view or more granularity"
   ]
  },
  {
   "cell_type": "code",
   "id": "b2e9b544c5ed4fa6",
   "metadata": {
    "ExecuteTime": {
     "end_time": "2024-08-30T13:04:14.193956Z",
     "start_time": "2024-08-30T13:04:14.103736Z"
    }
   },
   "source": [
    "def plot_number_distribution(lotto_data, bin_size=10):\n",
    "    \"\"\"\n",
    "    Plots the distribution of lotto numbers with more detailed x-axis.\n",
    "\n",
    "    :param lotto_data: Dictionary of lotto results.\n",
    "    :param bin_size: Size of each bin in the histogram, default is 1 for finer detail.\n",
    "    \"\"\"\n",
    "    all_numbers = []\n",
    "    for play_data in lotto_data.values():\n",
    "        all_numbers.extend(play_data['numbers'])\n",
    "\n",
    "    # Determine the range of numbers\n",
    "    min_number = min(all_numbers)\n",
    "    max_number = max(all_numbers)\n",
    "\n",
    "    # Create a histogram to visualize the distribution\n",
    "    plt.figure(figsize=(12, 6))\n",
    "    counts, bins, patches = plt.hist(all_numbers, bins=range(min_number, max_number + bin_size, bin_size), edgecolor='black', alpha=0.7)\n",
    "\n",
    "    # Adjust the x-axis to cover the entire range of bins\n",
    "    plt.xticks(range(min_number, max_number + bin_size, bin_size))\n",
    "\n",
    "    plt.xlabel('Number')\n",
    "    plt.ylabel('Frequency')\n",
    "    plt.title('Detailed Distribution of Lotto Numbers')\n",
    "    plt.grid(axis='y', alpha=0.75)\n",
    "    plt.show()\n",
    "\n",
    "    # Sorting and printing bin frequencies from highest to lowest\n",
    "    bin_frequencies = Counter({f'{int(bins[i])}-{int(bins[i+1])-1}': int(counts[i]) for i in range(len(counts))})\n",
    "    for bin_range, frequency in bin_frequencies.most_common():\n",
    "        print(f\"Range: {bin_range}, Frequency: {frequency}\")\n",
    "\n",
    "# Example usage\n",
    "plot_number_distribution(lotto_results)"
   ],
   "outputs": [
    {
     "data": {
      "text/plain": [
       "<Figure size 1200x600 with 1 Axes>"
      ],
      "image/png": "[encoded data removed]"
     },
     "metadata": {},
     "output_type": "display_data"
    },
    {
     "name": "stdout",
     "output_type": "stream",
     "text": [
      "Range: 31-40, Frequency: 297\n",
      "Range: 11-20, Frequency: 294\n",
      "Range: 21-30, Frequency: 280\n",
      "Range: 1-10, Frequency: 268\n",
      "Range: 41-50, Frequency: 66\n"
     ]
    }
   ],
   "execution_count": 76
  }
 ],
 "metadata": {
  "kernelspec": {
   "display_name": "Python 3 (ipykernel)",
   "language": "python",
   "name": "python3"
  },
  "language_info": {
   "codemirror_mode": {
    "name": "ipython",
    "version": 3
   },
   "file_extension": ".py",
   "mimetype": "text/x-python",
   "name": "python",
   "nbconvert_exporter": "python",
   "pygments_lexer": "ipython3",
   "version": "3.11.5"
  }
 },
 "nbformat": 4,
 "nbformat_minor": 5
}

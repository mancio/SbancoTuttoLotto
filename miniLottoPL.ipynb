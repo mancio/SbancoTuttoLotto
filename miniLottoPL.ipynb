{
 "cells": [
  {
   "cell_type": "markdown",
   "id": "e621caff",
   "metadata": {},
   "source": [
    "# Polish MiniLotto Extraction Analysis\n",
    "This notebook contains code to fetch lotto extraction data, perform frequency analysis, and visualize the results with a color gradient."
   ]
  },
  {
   "cell_type": "markdown",
   "id": "08d81528",
   "metadata": {},
   "source": [
    "## Importing Required Libraries"
   ]
  },
  {
   "cell_type": "code",
   "execution_count": 10,
   "id": "c045fc3c729cb9b3",
   "metadata": {
    "collapsed": false,
    "ExecuteTime": {
     "end_time": "2023-12-18T15:59:09.106209400Z",
     "start_time": "2023-12-18T15:59:09.096220500Z"
    }
   },
   "outputs": [],
   "source": [
    "import requests\n",
    "import re\n",
    "import matplotlib.pyplot as plt\n",
    "import numpy as np\n",
    "from datetime import datetime\n",
    "from itertools import combinations\n",
    "from collections import Counter\n",
    "import requests\n",
    "import json\n",
    "from datetime import datetime"
   ]
  },
  {
   "cell_type": "markdown",
   "id": "277272074a06f328",
   "metadata": {
    "collapsed": false
   },
   "source": [
    "## Function to Fetch Lotto Data"
   ]
  },
  {
   "cell_type": "code",
   "execution_count": 11,
   "id": "670b5bb30141351c",
   "metadata": {
    "collapsed": false,
    "ExecuteTime": {
     "end_time": "2023-12-18T15:59:09.517202600Z",
     "start_time": "2023-12-18T15:59:09.101208300Z"
    }
   },
   "outputs": [
    {
     "name": "stdout",
     "output_type": "stream",
     "text": [
      "Error fetching data: 403 Client Error: Forbidden for url: https://www.lotto.pl/api/lotteries/draw-results/by-gametype?game=MiniLotto&index=1&size=10000000&sort=drawSystemId&order=DESC\n"
     ]
    }
   ],
   "source": [
    "import requests\n",
    "import json\n",
    "from datetime import datetime\n",
    "\n",
    "def read_lotto_data_from_api(url):\n",
    "    try:\n",
    "        headers = {\n",
    "            'User-Agent': 'Mozilla/5.0 (Windows NT 10.0; Win64; x64) AppleWebKit/537.36 (KHTML, like Gecko) Chrome/58.0.3029.110 Safari/537.3',\n",
    "            'Accept': 'application/json',\n",
    "            'Referer': 'https://www.lotto.pl/'  # Example, adjust as needed\n",
    "        }\n",
    "        response = requests.get(url, headers=headers)\n",
    "        response.raise_for_status()\n",
    "        data = response.json()\n",
    "\n",
    "        lotto_data = {}\n",
    "        for item in data['items']:\n",
    "            play_number = item['drawSystemId']\n",
    "            date_iso = item['drawDate']\n",
    "            date_object = datetime.fromisoformat(date_iso)\n",
    "            formatted_date = date_object.strftime('%d.%m.%Y')\n",
    "            numbers = item['results'][0]['resultsJson']\n",
    "            game_type = item['gameType']\n",
    "\n",
    "            lotto_data[play_number] = {\n",
    "                'date': formatted_date,\n",
    "                'gametype': game_type,\n",
    "                'numbers': numbers\n",
    "            }\n",
    "\n",
    "        return lotto_data\n",
    "\n",
    "    except requests.RequestException as e:\n",
    "        print(f'Error fetching data: {e}')\n",
    "\n",
    "# URL for the API\n",
    "api_url = 'https://www.lotto.pl/api/lotteries/draw-results/by-gametype?game=MiniLotto&index=1&size=10000000&sort=drawSystemId&order=DESC'\n",
    "\n",
    "# Fetching lotto results from the API\n",
    "lotto_results = read_lotto_data_from_api(api_url)"
   ]
  },
  {
   "cell_type": "markdown",
   "source": [
    "## Select plays time window"
   ],
   "metadata": {
    "collapsed": false
   },
   "id": "9c0f9ee1605eeba"
  },
  {
   "cell_type": "code",
   "execution_count": 12,
   "outputs": [
    {
     "ename": "AttributeError",
     "evalue": "'NoneType' object has no attribute 'items'",
     "output_type": "error",
     "traceback": [
      "\u001B[1;31m---------------------------------------------------------------------------\u001B[0m",
      "\u001B[1;31mAttributeError\u001B[0m                            Traceback (most recent call last)",
      "Cell \u001B[1;32mIn[12], line 26\u001B[0m\n\u001B[0;32m     24\u001B[0m start_date \u001B[38;5;241m=\u001B[39m \u001B[38;5;124m\"\u001B[39m\u001B[38;5;124m01.10.2023\u001B[39m\u001B[38;5;124m\"\u001B[39m\n\u001B[0;32m     25\u001B[0m end_date \u001B[38;5;241m=\u001B[39m \u001B[38;5;124m\"\u001B[39m\u001B[38;5;124m30.12.2023\u001B[39m\u001B[38;5;124m\"\u001B[39m\n\u001B[1;32m---> 26\u001B[0m lotto_results \u001B[38;5;241m=\u001B[39m \u001B[43mfilter_lotto_results_by_date\u001B[49m\u001B[43m(\u001B[49m\u001B[43mlotto_results\u001B[49m\u001B[43m,\u001B[49m\u001B[43m \u001B[49m\u001B[43mstart_date\u001B[49m\u001B[43m,\u001B[49m\u001B[43m \u001B[49m\u001B[43mend_date\u001B[49m\u001B[43m)\u001B[49m\n\u001B[0;32m     28\u001B[0m \u001B[38;5;66;03m# Now, filtered_lotto_results contains only the plays between the start_date and end_date\u001B[39;00m\n",
      "Cell \u001B[1;32mIn[12], line 16\u001B[0m, in \u001B[0;36mfilter_lotto_results_by_date\u001B[1;34m(lotto_results, start_date, end_date)\u001B[0m\n\u001B[0;32m     14\u001B[0m \u001B[38;5;66;03m# Filter the results\u001B[39;00m\n\u001B[0;32m     15\u001B[0m filtered_results \u001B[38;5;241m=\u001B[39m {}\n\u001B[1;32m---> 16\u001B[0m \u001B[38;5;28;01mfor\u001B[39;00m play_number, play_data \u001B[38;5;129;01min\u001B[39;00m \u001B[43mlotto_results\u001B[49m\u001B[38;5;241;43m.\u001B[39;49m\u001B[43mitems\u001B[49m():\n\u001B[0;32m     17\u001B[0m     play_date \u001B[38;5;241m=\u001B[39m datetime\u001B[38;5;241m.\u001B[39mstrptime(play_data[\u001B[38;5;124m'\u001B[39m\u001B[38;5;124mdate\u001B[39m\u001B[38;5;124m'\u001B[39m], \u001B[38;5;124m\"\u001B[39m\u001B[38;5;132;01m%d\u001B[39;00m\u001B[38;5;124m.\u001B[39m\u001B[38;5;124m%\u001B[39m\u001B[38;5;124mm.\u001B[39m\u001B[38;5;124m%\u001B[39m\u001B[38;5;124mY\u001B[39m\u001B[38;5;124m\"\u001B[39m)\n\u001B[0;32m     18\u001B[0m     \u001B[38;5;28;01mif\u001B[39;00m start_date \u001B[38;5;241m<\u001B[39m\u001B[38;5;241m=\u001B[39m play_date \u001B[38;5;241m<\u001B[39m\u001B[38;5;241m=\u001B[39m end_date:\n",
      "\u001B[1;31mAttributeError\u001B[0m: 'NoneType' object has no attribute 'items'"
     ]
    }
   ],
   "source": [
    "def filter_lotto_results_by_date(lotto_results, start_date, end_date):\n",
    "    \"\"\"\n",
    "    Filters the lotto results to include only those within the specified date range.\n",
    "\n",
    "    :param lotto_results: Dictionary of lotto results.\n",
    "    :param start_date: String of start date in 'dd.mm.yyyy' format.\n",
    "    :param end_date: String of end date in 'dd.mm.yyyy' format.\n",
    "    :return: Filtered dictionary of lotto results.\n",
    "    \"\"\"\n",
    "    # Convert start_date and end_date to datetime objects\n",
    "    start_date = datetime.strptime(start_date, \"%d.%m.%Y\")\n",
    "    end_date = datetime.strptime(end_date, \"%d.%m.%Y\")\n",
    "\n",
    "    # Filter the results\n",
    "    filtered_results = {}\n",
    "    for play_number, play_data in lotto_results.items():\n",
    "        play_date = datetime.strptime(play_data['date'], \"%d.%m.%Y\")\n",
    "        if start_date <= play_date <= end_date:\n",
    "            filtered_results[play_number] = play_data\n",
    "\n",
    "    return filtered_results\n",
    "\n",
    "# Example usage\n",
    "start_date = \"01.10.2023\"\n",
    "end_date = \"30.12.2023\"\n",
    "lotto_results = filter_lotto_results_by_date(lotto_results, start_date, end_date)\n",
    "\n",
    "# Now, filtered_lotto_results contains only the plays between the start_date and end_date"
   ],
   "metadata": {
    "collapsed": false,
    "ExecuteTime": {
     "end_time": "2023-12-18T15:59:09.529338800Z",
     "start_time": "2023-12-18T15:59:09.512943100Z"
    }
   },
   "id": "15144d6da7f2e792"
  },
  {
   "cell_type": "markdown",
   "id": "3a97d42054f74ba9",
   "metadata": {
    "collapsed": false
   },
   "source": [
    "## Last 10 draws"
   ]
  },
  {
   "cell_type": "code",
   "execution_count": null,
   "id": "4a5f980481535160",
   "metadata": {
    "collapsed": false,
    "ExecuteTime": {
     "end_time": "2023-12-18T15:59:09.532339400Z",
     "start_time": "2023-12-18T15:59:09.530339300Z"
    }
   },
   "outputs": [],
   "source": [
    "# Displaying the last 10 (newest) results from lotto_results dictionary\n",
    "last_10_plays = sorted(lotto_results.keys())[-10:]\n",
    "for play_number in last_10_plays:\n",
    "    result = lotto_results[play_number]\n",
    "    print(f\"Play Number: {play_number}, Date: {result['date']}, Numbers: {result['numbers']}\")\n"
   ]
  },
  {
   "cell_type": "markdown",
   "id": "c35f6ab4e9f953d",
   "metadata": {
    "collapsed": false
   },
   "source": [
    "## Frequency Analysis"
   ]
  },
  {
   "cell_type": "code",
   "execution_count": null,
   "id": "45576cf1946f16e5",
   "metadata": {
    "collapsed": false,
    "ExecuteTime": {
     "start_time": "2023-12-18T15:59:09.531339200Z"
    }
   },
   "outputs": [],
   "source": [
    "def frequency_analysis(lotto_data):\n",
    "    numbers = []\n",
    "    for play in lotto_data.values():\n",
    "        numbers.extend(play['numbers'])\n",
    "    return Counter(numbers)\n",
    "\n",
    "number_frequency = frequency_analysis(lotto_results)\n",
    "sorted_numbers = sorted(number_frequency.items(), key=lambda x: x[1])\n",
    "numbers, frequencies = zip(*sorted_numbers)\n",
    "\n",
    "# Define nine thresholds for the deciles\n",
    "thresholds = np.quantile(frequencies, np.linspace(1/8, 7/8, 7))\n",
    "\n",
    "# Define 10 colors for each decile\n",
    "octile_colors = [\n",
    "    'darkblue',    # Least frequent - coldest\n",
    "    'blue',\n",
    "    'lightblue',\n",
    "    'green',\n",
    "    'lightgreen',\n",
    "    'yellow',\n",
    "    'orange',\n",
    "    'red'        # Most frequent - hottest\n",
    "]\n",
    "\n",
    "# Assign a color based on which decile each frequency falls into\n",
    "colors = []\n",
    "for freq in frequencies:\n",
    "    for i, threshold in enumerate(thresholds):\n",
    "        if freq <= threshold:\n",
    "            colors.append(octile_colors[i])\n",
    "            break\n",
    "    else:\n",
    "        colors.append(octile_colors[-1])  # Assign the last color to the top decile\n",
    "\n",
    "# Plotting the results with the assigned colors\n",
    "plt.figure(figsize=(15, 5))\n",
    "plt.bar(numbers, frequencies, color=colors)\n",
    "plt.xlabel('Number')\n",
    "plt.ylabel('Frequency')\n",
    "plt.title('Lotto Number Frequency')\n",
    "plt.xticks(numbers, rotation=90)\n",
    "plt.show()"
   ]
  },
  {
   "cell_type": "markdown",
   "id": "37c0e1171b4424a9",
   "metadata": {
    "collapsed": false
   },
   "source": [
    "## Print the five more and less probable numbers"
   ]
  },
  {
   "cell_type": "code",
   "execution_count": null,
   "id": "d5509886045fbebf",
   "metadata": {
    "collapsed": false,
    "ExecuteTime": {
     "end_time": "2023-12-18T15:59:09.534340600Z",
     "start_time": "2023-12-18T15:59:09.533340200Z"
    }
   },
   "outputs": [],
   "source": [
    "# Sorting the numbers by frequency in descending order\n",
    "most_frequent_numbers = sorted(number_frequency, key=number_frequency.get, reverse=True)[:5]\n",
    "\n",
    "# Sorting the numbers by frequency in ascending order\n",
    "least_frequent_numbers = sorted(number_frequency, key=number_frequency.get)[:5]\n",
    "\n",
    "print(\"5 Most Probable Numbers:\", most_frequent_numbers)\n",
    "print(\"5 Least Probable Numbers:\", least_frequent_numbers)"
   ]
  },
  {
   "cell_type": "markdown",
   "id": "4a79d4316a8cf5f2",
   "metadata": {
    "collapsed": false
   },
   "source": [
    "## Verifying if the Most or Least Probable Sets of Five Numbers Have Been Previously Drawn"
   ]
  },
  {
   "cell_type": "code",
   "execution_count": null,
   "id": "de759a11ae45962e",
   "metadata": {
    "collapsed": false,
    "ExecuteTime": {
     "end_time": "2023-12-18T15:59:09.534340600Z",
     "start_time": "2023-12-18T15:59:09.534340600Z"
    }
   },
   "outputs": [],
   "source": [
    "def check_occurrence(lotto_data, numbers_set):\n",
    "    occurrences = []\n",
    "    for play_number, play_data in lotto_data.items():\n",
    "        if set(play_data['numbers']) == numbers_set:\n",
    "            occurrences.append((play_number, play_data['date']))\n",
    "    return occurrences\n",
    "\n",
    "# Most and least probable numbers\n",
    "most_probable_numbers = set(most_frequent_numbers)\n",
    "least_probable_numbers = set(least_frequent_numbers)\n",
    "\n",
    "# Check if these sets ever occurred in the history\n",
    "most_probable_occurrences = check_occurrence(lotto_results, most_probable_numbers)\n",
    "least_probable_occurrences = check_occurrence(lotto_results, least_probable_numbers)\n",
    "\n",
    "print(\"Occurrences of Most Probable Numbers:\")\n",
    "if most_probable_occurrences:\n",
    "    for play_number, date in most_probable_occurrences:\n",
    "        print(f\"Play Number: {play_number}, Date: {date}\")\n",
    "else:\n",
    "    print(\"None\")\n",
    "\n",
    "print(\"\\nOccurrences of Least Probable Numbers:\")\n",
    "if least_probable_occurrences:\n",
    "    for play_number, date in least_probable_occurrences:\n",
    "        print(f\"Play Number: {play_number}, Date: {date}\")\n",
    "else:\n",
    "    print(\"None\")\n"
   ]
  },
  {
   "cell_type": "markdown",
   "source": [
    "## Comprehensive Analysis of Lotto Number Combinations: Pairs, Triplets, and Quadruplets"
   ],
   "metadata": {
    "collapsed": false
   },
   "id": "a17be086fc4e2ee5"
  },
  {
   "cell_type": "code",
   "execution_count": null,
   "outputs": [],
   "source": [
    "def analyze_combinations(lotto_data, combination_size=2):\n",
    "    \"\"\"\n",
    "    Analyzes the frequency of combinations (like pairs, triplets, quadruplets) in the lotto data.\n",
    "\n",
    "    :param lotto_data: Dictionary of lotto results.\n",
    "    :param combination_size: Size of the combinations to analyze (2 for pairs, 3 for triplets, 4 for quadruplets).\n",
    "    :return: Counter object with the frequency of each combination.\n",
    "    \"\"\"\n",
    "    all_combinations = []\n",
    "\n",
    "    # Iterate through each draw and find combinations\n",
    "    for play_data in lotto_data.values():\n",
    "        numbers = play_data['numbers']\n",
    "        for combo in combinations(numbers, combination_size):\n",
    "            all_combinations.append(tuple(sorted(combo)))\n",
    "\n",
    "    return Counter(all_combinations)\n",
    "\n",
    "# Example usage\n",
    "for combination_size in [2, 3, 4]:  # For pairs, triplets, and quadruplets\n",
    "    print(f\"\\nAnalyzing {combination_size}-number combinations:\")\n",
    "    combinations_frequency = analyze_combinations(lotto_results, combination_size)\n",
    "\n",
    "    # Display the most common combinations\n",
    "    for combo, frequency in combinations_frequency.most_common(10):\n",
    "        print(f\"Combination: {combo}, Frequency: {frequency}\")\n"
   ],
   "metadata": {
    "collapsed": false,
    "ExecuteTime": {
     "end_time": "2023-12-18T15:59:09.572348700Z",
     "start_time": "2023-12-18T15:59:09.535340300Z"
    }
   },
   "id": "f54e4d95f5ec1579"
  },
  {
   "cell_type": "markdown",
   "source": [
    "## Detailed Analysis of Lotto Number Distributions and Trends"
   ],
   "metadata": {
    "collapsed": false
   },
   "id": "cb03331bb37a382e"
  },
  {
   "cell_type": "markdown",
   "source": [
    "Change bin size for broader view or more granularity"
   ],
   "metadata": {
    "collapsed": false
   },
   "id": "6699251e3000564e"
  },
  {
   "cell_type": "code",
   "execution_count": null,
   "outputs": [],
   "source": [
    "def plot_number_distribution(lotto_data, bin_size=3):\n",
    "    \"\"\"\n",
    "    Plots the distribution of lotto numbers with more detailed x-axis.\n",
    "\n",
    "    :param lotto_data: Dictionary of lotto results.\n",
    "    :param bin_size: Size of each bin in the histogram, default is 1 for finer detail.\n",
    "    \"\"\"\n",
    "    all_numbers = []\n",
    "    for play_data in lotto_data.values():\n",
    "        all_numbers.extend(play_data['numbers'])\n",
    "\n",
    "    # Determine the range of numbers\n",
    "    min_number = min(all_numbers)\n",
    "    max_number = max(all_numbers)\n",
    "\n",
    "    # Create a histogram to visualize the distribution\n",
    "    plt.figure(figsize=(12, 6))\n",
    "    plt.hist(all_numbers, bins=range(min_number, max_number + bin_size, bin_size), edgecolor='black', alpha=0.7)\n",
    "\n",
    "    # Setting more x-axis labels\n",
    "    plt.xticks(range(min_number, max_number + 1, bin_size))\n",
    "\n",
    "    plt.xlabel('Number')\n",
    "    plt.ylabel('Frequency')\n",
    "    plt.title('Detailed Distribution of Lotto Numbers')\n",
    "    plt.grid(axis='y', alpha=0.75)\n",
    "    plt.show()\n",
    "\n",
    "# Example usage\n",
    "plot_number_distribution(lotto_results)"
   ],
   "metadata": {
    "collapsed": false,
    "ExecuteTime": {
     "start_time": "2023-12-18T15:59:09.536341400Z"
    }
   },
   "id": "e708355fbccafe0c"
  }
 ],
 "metadata": {
  "kernelspec": {
   "display_name": "Python 3 (ipykernel)",
   "language": "python",
   "name": "python3"
  },
  "language_info": {
   "codemirror_mode": {
    "name": "ipython",
    "version": 3
   },
   "file_extension": ".py",
   "mimetype": "text/x-python",
   "name": "python",
   "nbconvert_exporter": "python",
   "pygments_lexer": "ipython3",
   "version": "3.11.5"
  }
 },
 "nbformat": 4,
 "nbformat_minor": 5
}

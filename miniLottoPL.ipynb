{
 "cells": [
  {
   "cell_type": "markdown",
   "id": "e621caff",
   "metadata": {},
   "source": [
    "# Polish MiniLotto Extraction Analysis\n",
    "This notebook contains code to fetch lotto extraction data, perform frequency analysis, and visualize the results with a color gradient."
   ]
  },
  {
   "cell_type": "markdown",
   "id": "08d81528",
   "metadata": {},
   "source": [
    "## Importing Required Libraries"
   ]
  },
  {
   "cell_type": "code",
   "execution_count": 67,
   "id": "c045fc3c729cb9b3",
   "metadata": {
    "collapsed": false,
    "ExecuteTime": {
     "end_time": "2023-12-16T19:02:40.947989300Z",
     "start_time": "2023-12-16T19:02:40.926278300Z"
    }
   },
   "outputs": [],
   "source": [
    "import requests\n",
    "import re\n",
    "from collections import Counter\n",
    "import matplotlib.pyplot as plt\n",
    "import numpy as np"
   ]
  },
  {
   "cell_type": "markdown",
   "id": "277272074a06f328",
   "metadata": {
    "collapsed": false
   },
   "source": [
    "## Function to Fetch Lotto Data"
   ]
  },
  {
   "cell_type": "code",
   "execution_count": 68,
   "id": "670b5bb30141351c",
   "metadata": {
    "collapsed": false,
    "ExecuteTime": {
     "end_time": "2023-12-16T19:02:41.049215400Z",
     "start_time": "2023-12-16T19:02:40.938987700Z"
    }
   },
   "outputs": [],
   "source": [
    "def read_lotto_file(url):\n",
    "    try:\n",
    "        response = requests.get(url)\n",
    "        response.raise_for_status()\n",
    "        lines = response.text.split('\\n')\n",
    "        lotto_data = {}\n",
    "        for line in lines:\n",
    "            match = re.match(r'(\\d+)\\.\\s+(\\d{2}\\.\\d{2}\\.\\d{4})\\s+([\\d,]+)', line)\n",
    "            if match:\n",
    "                play_number = int(match.group(1))\n",
    "                date = match.group(2)\n",
    "                numbers = [int(num) for num in match.group(3).split(',')]\n",
    "                lotto_data[play_number] = {\n",
    "                    'gametype': 'MiniLotto',\n",
    "                    'date': date,\n",
    "                    'numbers': numbers\n",
    "                }\n",
    "        return lotto_data\n",
    "    except requests.RequestException as e:\n",
    "        print(f'Error fetching data: {e}')\n",
    "url = 'http://www.mbnet.com.pl/el.txt'\n",
    "lotto_results = read_lotto_file(url)"
   ]
  },
  {
   "cell_type": "markdown",
   "source": [
    "## Select plays time window"
   ],
   "metadata": {
    "collapsed": false
   },
   "id": "9c0f9ee1605eeba"
  },
  {
   "cell_type": "code",
   "execution_count": 69,
   "outputs": [],
   "source": [
    "from datetime import datetime\n",
    "\n",
    "def filter_lotto_results_by_date(lotto_results, start_date, end_date):\n",
    "    \"\"\"\n",
    "    Filters the lotto results to include only those within the specified date range.\n",
    "\n",
    "    :param lotto_results: Dictionary of lotto results.\n",
    "    :param start_date: String of start date in 'dd.mm.yyyy' format.\n",
    "    :param end_date: String of end date in 'dd.mm.yyyy' format.\n",
    "    :return: Filtered dictionary of lotto results.\n",
    "    \"\"\"\n",
    "    # Convert start_date and end_date to datetime objects\n",
    "    start_date = datetime.strptime(start_date, \"%d.%m.%Y\")\n",
    "    end_date = datetime.strptime(end_date, \"%d.%m.%Y\")\n",
    "\n",
    "    # Filter the results\n",
    "    filtered_results = {}\n",
    "    for play_number, play_data in lotto_results.items():\n",
    "        play_date = datetime.strptime(play_data['date'], \"%d.%m.%Y\")\n",
    "        if start_date <= play_date <= end_date:\n",
    "            filtered_results[play_number] = play_data\n",
    "\n",
    "    return filtered_results\n",
    "\n",
    "# Example usage\n",
    "start_date = \"13.12.2023\"\n",
    "end_date = \"16.12.2023\"\n",
    "lotto_results = filter_lotto_results_by_date(lotto_results, start_date, end_date)\n",
    "\n",
    "# Now, filtered_lotto_results contains only the plays between the start_date and end_date"
   ],
   "metadata": {
    "collapsed": false,
    "ExecuteTime": {
     "end_time": "2023-12-16T19:02:41.111905800Z",
     "start_time": "2023-12-16T19:02:41.044213900Z"
    }
   },
   "id": "15144d6da7f2e792"
  },
  {
   "cell_type": "markdown",
   "id": "3a97d42054f74ba9",
   "metadata": {
    "collapsed": false
   },
   "source": [
    "## Last 10 draws"
   ]
  },
  {
   "cell_type": "code",
   "execution_count": 70,
   "id": "4a5f980481535160",
   "metadata": {
    "collapsed": false,
    "ExecuteTime": {
     "end_time": "2023-12-16T19:02:41.116961800Z",
     "start_time": "2023-12-16T19:02:41.110905300Z"
    }
   },
   "outputs": [
    {
     "name": "stdout",
     "output_type": "stream",
     "text": [
      "Play Number: 6308, Date: 13.12.2023, Numbers: [3, 5, 10, 25, 29]\n"
     ]
    }
   ],
   "source": [
    "# Displaying the last 10 (newest) results from lotto_results dictionary\n",
    "last_10_plays = sorted(lotto_results.keys())[-10:]\n",
    "for play_number in last_10_plays:\n",
    "    result = lotto_results[play_number]\n",
    "    print(f\"Play Number: {play_number}, Date: {result['date']}, Numbers: {result['numbers']}\")\n"
   ]
  },
  {
   "cell_type": "markdown",
   "id": "c35f6ab4e9f953d",
   "metadata": {
    "collapsed": false
   },
   "source": [
    "## Frequency Analysis"
   ]
  },
  {
   "cell_type": "code",
   "execution_count": 71,
   "id": "45576cf1946f16e5",
   "metadata": {
    "collapsed": false,
    "ExecuteTime": {
     "end_time": "2023-12-16T19:02:41.208254400Z",
     "start_time": "2023-12-16T19:02:41.115961700Z"
    }
   },
   "outputs": [
    {
     "data": {
      "text/plain": "<Figure size 1500x500 with 1 Axes>",
      "image/png": "[encoded data removed]"
     },
     "metadata": {},
     "output_type": "display_data"
    }
   ],
   "source": [
    "def frequency_analysis(lotto_data):\n",
    "    numbers = []\n",
    "    for play in lotto_data.values():\n",
    "        numbers.extend(play['numbers'])\n",
    "    return Counter(numbers)\n",
    "\n",
    "number_frequency = frequency_analysis(lotto_results)\n",
    "sorted_numbers = sorted(number_frequency.items(), key=lambda x: x[1])\n",
    "numbers, frequencies = zip(*sorted_numbers)\n",
    "\n",
    "# Define nine thresholds for the deciles\n",
    "thresholds = np.quantile(frequencies, np.linspace(1/8, 7/8, 7))\n",
    "\n",
    "# Define 10 colors for each decile\n",
    "octile_colors = [\n",
    "    'darkblue',    # Least frequent - coldest\n",
    "    'blue',\n",
    "    'lightblue',\n",
    "    'green',\n",
    "    'lightgreen',\n",
    "    'yellow',\n",
    "    'orange',\n",
    "    'red'        # Most frequent - hottest\n",
    "]\n",
    "\n",
    "# Assign a color based on which decile each frequency falls into\n",
    "colors = []\n",
    "for freq in frequencies:\n",
    "    for i, threshold in enumerate(thresholds):\n",
    "        if freq <= threshold:\n",
    "            colors.append(octile_colors[i])\n",
    "            break\n",
    "    else:\n",
    "        colors.append(octile_colors[-1])  # Assign the last color to the top decile\n",
    "\n",
    "# Plotting the results with the assigned colors\n",
    "plt.figure(figsize=(15, 5))\n",
    "plt.bar(numbers, frequencies, color=colors)\n",
    "plt.xlabel('Number')\n",
    "plt.ylabel('Frequency')\n",
    "plt.title('Lotto Number Frequency')\n",
    "plt.xticks(numbers, rotation=90)\n",
    "plt.show()"
   ]
  },
  {
   "cell_type": "markdown",
   "id": "37c0e1171b4424a9",
   "metadata": {
    "collapsed": false
   },
   "source": [
    "## Print the five more and less probable numbers"
   ]
  },
  {
   "cell_type": "code",
   "execution_count": 72,
   "id": "d5509886045fbebf",
   "metadata": {
    "collapsed": false,
    "ExecuteTime": {
     "end_time": "2023-12-16T19:02:41.209254400Z",
     "start_time": "2023-12-16T19:02:41.203142300Z"
    }
   },
   "outputs": [
    {
     "name": "stdout",
     "output_type": "stream",
     "text": [
      "5 Most Probable Numbers: [3, 5, 10, 25, 29]\n",
      "5 Least Probable Numbers: [3, 5, 10, 25, 29]\n"
     ]
    }
   ],
   "source": [
    "# Sorting the numbers by frequency in descending order\n",
    "most_frequent_numbers = sorted(number_frequency, key=number_frequency.get, reverse=True)[:5]\n",
    "\n",
    "# Sorting the numbers by frequency in ascending order\n",
    "least_frequent_numbers = sorted(number_frequency, key=number_frequency.get)[:5]\n",
    "\n",
    "print(\"5 Most Probable Numbers:\", most_frequent_numbers)\n",
    "print(\"5 Least Probable Numbers:\", least_frequent_numbers)"
   ]
  },
  {
   "cell_type": "markdown",
   "id": "4a79d4316a8cf5f2",
   "metadata": {
    "collapsed": false
   },
   "source": [
    "## Verifying if the Most or Least Probable Sets of Five Numbers Have Been Previously Drawn"
   ]
  },
  {
   "cell_type": "code",
   "execution_count": 73,
   "id": "de759a11ae45962e",
   "metadata": {
    "collapsed": false,
    "ExecuteTime": {
     "end_time": "2023-12-16T19:02:41.223547300Z",
     "start_time": "2023-12-16T19:02:41.207254Z"
    }
   },
   "outputs": [
    {
     "name": "stdout",
     "output_type": "stream",
     "text": [
      "Occurrences of Most Probable Numbers:\n",
      "Play Number: 6308, Date: 13.12.2023\n",
      "\n",
      "Occurrences of Least Probable Numbers:\n",
      "Play Number: 6308, Date: 13.12.2023\n"
     ]
    }
   ],
   "source": [
    "def check_occurrence(lotto_data, numbers_set):\n",
    "    occurrences = []\n",
    "    for play_number, play_data in lotto_data.items():\n",
    "        if set(play_data['numbers']) == numbers_set:\n",
    "            occurrences.append((play_number, play_data['date']))\n",
    "    return occurrences\n",
    "\n",
    "# Most and least probable numbers\n",
    "most_probable_numbers = set(most_frequent_numbers)\n",
    "least_probable_numbers = set(least_frequent_numbers)\n",
    "\n",
    "# Check if these sets ever occurred in the history\n",
    "most_probable_occurrences = check_occurrence(lotto_results, most_probable_numbers)\n",
    "least_probable_occurrences = check_occurrence(lotto_results, least_probable_numbers)\n",
    "\n",
    "print(\"Occurrences of Most Probable Numbers:\")\n",
    "if most_probable_occurrences:\n",
    "    for play_number, date in most_probable_occurrences:\n",
    "        print(f\"Play Number: {play_number}, Date: {date}\")\n",
    "else:\n",
    "    print(\"None\")\n",
    "\n",
    "print(\"\\nOccurrences of Least Probable Numbers:\")\n",
    "if least_probable_occurrences:\n",
    "    for play_number, date in least_probable_occurrences:\n",
    "        print(f\"Play Number: {play_number}, Date: {date}\")\n",
    "else:\n",
    "    print(\"None\")\n"
   ]
  }
 ],
 "metadata": {
  "kernelspec": {
   "display_name": "Python 3 (ipykernel)",
   "language": "python",
   "name": "python3"
  },
  "language_info": {
   "codemirror_mode": {
    "name": "ipython",
    "version": 3
   },
   "file_extension": ".py",
   "mimetype": "text/x-python",
   "name": "python",
   "nbconvert_exporter": "python",
   "pygments_lexer": "ipython3",
   "version": "3.11.5"
  }
 },
 "nbformat": 4,
 "nbformat_minor": 5
}

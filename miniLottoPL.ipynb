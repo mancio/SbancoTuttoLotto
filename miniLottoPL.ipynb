{
 "cells": [
  {
   "cell_type": "markdown",
   "id": "e621caff",
   "metadata": {},
   "source": [
    "# Polish MiniLotto Extraction Analysis\n",
    "This notebook contains code to fetch lotto extraction data, perform frequency analysis, and visualize the results with a color gradient.\n",
    "\n",
    "NOTE: Save the json file from [here](https://www.lotto.pl/api/lotteries/draw-results/by-gametype?game=MiniLotto&index=1&size=10000000&sort=drawSystemId&order=DESC) in your GitHub and access the raw version https://raw.githubusercontent.com as you see below"
   ]
  },
  {
   "cell_type": "markdown",
   "id": "08d81528",
   "metadata": {},
   "source": [
    "## Importing Required Libraries"
   ]
  },
  {
   "cell_type": "code",
   "execution_count": 268,
   "id": "c045fc3c729cb9b3",
   "metadata": {
    "collapsed": false,
    "ExecuteTime": {
     "end_time": "2023-12-18T17:28:12.673734500Z",
     "start_time": "2023-12-18T17:28:12.651727200Z"
    }
   },
   "outputs": [],
   "source": [
    "import matplotlib.pyplot as plt\n",
    "import numpy as np\n",
    "from itertools import combinations\n",
    "from collections import Counter\n",
    "import requests\n",
    "from datetime import datetime"
   ]
  },
  {
   "cell_type": "markdown",
   "id": "277272074a06f328",
   "metadata": {
    "collapsed": false
   },
   "source": [
    "## Function to Fetch Lotto Data"
   ]
  },
  {
   "cell_type": "code",
   "execution_count": 269,
   "id": "670b5bb30141351c",
   "metadata": {
    "collapsed": false,
    "ExecuteTime": {
     "end_time": "2023-12-18T17:28:13.551109800Z",
     "start_time": "2023-12-18T17:28:12.673734500Z"
    }
   },
   "outputs": [],
   "source": [
    "def read_lotto_data_from_api(url):\n",
    "    try:\n",
    "        response = requests.get(url)\n",
    "        response.raise_for_status()\n",
    "        data = response.json()\n",
    "\n",
    "        lotto_data = {}\n",
    "        for item in data['items']:\n",
    "            play_number = item['drawSystemId']\n",
    "            date_iso = item['drawDate']\n",
    "            date_object = datetime.fromisoformat(date_iso)\n",
    "            formatted_date = date_object.strftime('%d.%m.%Y')\n",
    "            numbers = item['results'][0]['resultsJson']\n",
    "            game_type = item['gameType']\n",
    "\n",
    "            lotto_data[play_number] = {\n",
    "                'date': formatted_date,\n",
    "                'gametype': game_type,\n",
    "                'numbers': numbers\n",
    "            }\n",
    "\n",
    "        return lotto_data\n",
    "\n",
    "    except requests.RequestException as e:\n",
    "        print(f'Error fetching data: {e}')\n",
    "\n",
    "# URL for the API\n",
    "api_url = 'https://raw.githubusercontent.com/mancio/SbancoTuttoLotto/test/miniLotto18_12_2023.json'\n",
    "\n",
    "# Fetching lotto results from the API\n",
    "lotto_results = read_lotto_data_from_api(api_url)"
   ]
  },
  {
   "cell_type": "markdown",
   "source": [
    "## Select plays time window"
   ],
   "metadata": {
    "collapsed": false
   },
   "id": "9c0f9ee1605eeba"
  },
  {
   "cell_type": "code",
   "execution_count": 270,
   "outputs": [],
   "source": [
    "def filter_lotto_results_by_date(lotto_results, start_date, end_date):\n",
    "    \"\"\"\n",
    "    Filters the lotto results to include only those within the specified date range.\n",
    "\n",
    "    :param lotto_results: Dictionary of lotto results.\n",
    "    :param start_date: String of start date in 'dd.mm.yyyy' format.\n",
    "    :param end_date: String of end date in 'dd.mm.yyyy' format.\n",
    "    :return: Filtered dictionary of lotto results.\n",
    "    \"\"\"\n",
    "    # Convert start_date and end_date to datetime objects\n",
    "    start_date = datetime.strptime(start_date, \"%d.%m.%Y\")\n",
    "    end_date = datetime.strptime(end_date, \"%d.%m.%Y\")\n",
    "\n",
    "    # Filter the results\n",
    "    filtered_results = {}\n",
    "    for play_number, play_data in lotto_results.items():\n",
    "        play_date = datetime.strptime(play_data['date'], \"%d.%m.%Y\")\n",
    "        if start_date <= play_date <= end_date:\n",
    "            filtered_results[play_number] = play_data\n",
    "\n",
    "    return filtered_results\n",
    "\n",
    "# Example usage\n",
    "start_date = \"01.11.2023\"\n",
    "end_date = \"30.12.2023\"\n",
    "lotto_results = filter_lotto_results_by_date(lotto_results, start_date, end_date)\n",
    "\n",
    "# Now, filtered_lotto_results contains only the plays between the start_date and end_date"
   ],
   "metadata": {
    "collapsed": false,
    "ExecuteTime": {
     "end_time": "2023-12-18T17:28:13.580811400Z",
     "start_time": "2023-12-18T17:28:13.553626900Z"
    }
   },
   "id": "15144d6da7f2e792"
  },
  {
   "cell_type": "markdown",
   "source": [
    "## Total draws in the selected period"
   ],
   "metadata": {
    "collapsed": false
   },
   "id": "77ce81ad56b63944"
  },
  {
   "cell_type": "code",
   "execution_count": 271,
   "outputs": [
    {
     "name": "stdout",
     "output_type": "stream",
     "text": [
      "47 draws from 01.11.2023 to 30.12.2023\n"
     ]
    }
   ],
   "source": [
    "total_draws = len(lotto_results)\n",
    "print(f\"{total_draws} draws from {start_date} to {end_date}\")"
   ],
   "metadata": {
    "collapsed": false,
    "ExecuteTime": {
     "end_time": "2023-12-18T17:28:13.584829400Z",
     "start_time": "2023-12-18T17:28:13.581812700Z"
    }
   },
   "id": "d9a94281efcbf500"
  },
  {
   "cell_type": "markdown",
   "id": "3a97d42054f74ba9",
   "metadata": {
    "collapsed": false
   },
   "source": [
    "## Last 10 draws"
   ]
  },
  {
   "cell_type": "code",
   "execution_count": 272,
   "id": "4a5f980481535160",
   "metadata": {
    "collapsed": false,
    "ExecuteTime": {
     "end_time": "2023-12-18T17:28:13.602854400Z",
     "start_time": "2023-12-18T17:28:13.585827800Z"
    }
   },
   "outputs": [
    {
     "name": "stdout",
     "output_type": "stream",
     "text": [
      "Play Number: 6431, Date: 08.12.2023, Numbers: [37, 11, 21, 34, 38]\n",
      "Play Number: 6432, Date: 09.12.2023, Numbers: [6, 41, 37, 40, 33]\n",
      "Play Number: 6433, Date: 10.12.2023, Numbers: [13, 16, 31, 19, 4]\n",
      "Play Number: 6434, Date: 11.12.2023, Numbers: [2, 36, 42, 24, 23]\n",
      "Play Number: 6435, Date: 12.12.2023, Numbers: [4, 11, 29, 22, 27]\n",
      "Play Number: 6436, Date: 13.12.2023, Numbers: [3, 29, 10, 25, 5]\n",
      "Play Number: 6437, Date: 14.12.2023, Numbers: [17, 18, 10, 37, 6]\n",
      "Play Number: 6438, Date: 15.12.2023, Numbers: [6, 4, 38, 24, 34]\n",
      "Play Number: 6439, Date: 16.12.2023, Numbers: [18, 41, 36, 20, 25]\n",
      "Play Number: 6440, Date: 17.12.2023, Numbers: [28, 19, 29, 35, 32]\n"
     ]
    }
   ],
   "source": [
    "# Displaying the last 10 (newest) results from lotto_results dictionary\n",
    "last_10_plays = sorted(lotto_results.keys())[-10:]\n",
    "for play_number in last_10_plays:\n",
    "    result = lotto_results[play_number]\n",
    "    print(f\"Play Number: {play_number}, Date: {result['date']}, Numbers: {result['numbers']}\")\n"
   ]
  },
  {
   "cell_type": "markdown",
   "id": "c35f6ab4e9f953d",
   "metadata": {
    "collapsed": false
   },
   "source": [
    "## Frequency Analysis"
   ]
  },
  {
   "cell_type": "code",
   "execution_count": 273,
   "id": "45576cf1946f16e5",
   "metadata": {
    "collapsed": false,
    "ExecuteTime": {
     "end_time": "2023-12-18T17:28:13.758561600Z",
     "start_time": "2023-12-18T17:28:13.588851Z"
    }
   },
   "outputs": [
    {
     "data": {
      "text/plain": "<Figure size 1500x500 with 1 Axes>",
      "image/png": "[encoded data removed]"
     },
     "metadata": {},
     "output_type": "display_data"
    }
   ],
   "source": [
    "def frequency_analysis(lotto_data):\n",
    "    numbers = []\n",
    "    for play in lotto_data.values():\n",
    "        numbers.extend(play['numbers'])\n",
    "    return Counter(numbers)\n",
    "\n",
    "number_frequency = frequency_analysis(lotto_results)\n",
    "sorted_numbers = sorted(number_frequency.items(), key=lambda x: x[1])\n",
    "numbers, frequencies = zip(*sorted_numbers)\n",
    "\n",
    "# Define nine thresholds for the deciles\n",
    "thresholds = np.quantile(frequencies, np.linspace(1/8, 7/8, 7))\n",
    "\n",
    "# Define 10 colors for each decile\n",
    "octile_colors = [\n",
    "    'darkblue',    # Least frequent - coldest\n",
    "    'blue',\n",
    "    'lightblue',\n",
    "    'green',\n",
    "    'lightgreen',\n",
    "    'yellow',\n",
    "    'orange',\n",
    "    'red'        # Most frequent - hottest\n",
    "]\n",
    "\n",
    "# Assign a color based on which decile each frequency falls into\n",
    "colors = []\n",
    "for freq in frequencies:\n",
    "    for i, threshold in enumerate(thresholds):\n",
    "        if freq <= threshold:\n",
    "            colors.append(octile_colors[i])\n",
    "            break\n",
    "    else:\n",
    "        colors.append(octile_colors[-1])  # Assign the last color to the top decile\n",
    "\n",
    "# Plotting the results with the assigned colors\n",
    "plt.figure(figsize=(15, 5))\n",
    "plt.bar(numbers, frequencies, color=colors)\n",
    "plt.xlabel('Number')\n",
    "plt.ylabel('Frequency')\n",
    "plt.title('Lotto Number Frequency')\n",
    "plt.xticks(numbers, rotation=90)\n",
    "plt.show()"
   ]
  },
  {
   "cell_type": "markdown",
   "id": "37c0e1171b4424a9",
   "metadata": {
    "collapsed": false
   },
   "source": [
    "## Print the five more and less probable numbers"
   ]
  },
  {
   "cell_type": "code",
   "execution_count": 274,
   "id": "d5509886045fbebf",
   "metadata": {
    "collapsed": false,
    "ExecuteTime": {
     "end_time": "2023-12-18T17:28:13.764279600Z",
     "start_time": "2023-12-18T17:28:13.758561600Z"
    }
   },
   "outputs": [
    {
     "name": "stdout",
     "output_type": "stream",
     "text": [
      "5 Most Probable Numbers: [6, 4, 33, 39, 24]\n",
      "5 Least Probable Numbers: [28, 35, 13, 30, 25]\n"
     ]
    }
   ],
   "source": [
    "# Sorting the numbers by frequency in descending order\n",
    "most_frequent_numbers = sorted(number_frequency, key=number_frequency.get, reverse=True)[:5]\n",
    "\n",
    "# Sorting the numbers by frequency in ascending order\n",
    "least_frequent_numbers = sorted(number_frequency, key=number_frequency.get)[:5]\n",
    "\n",
    "print(\"5 Most Probable Numbers:\", most_frequent_numbers)\n",
    "print(\"5 Least Probable Numbers:\", least_frequent_numbers)"
   ]
  },
  {
   "cell_type": "markdown",
   "id": "4a79d4316a8cf5f2",
   "metadata": {
    "collapsed": false
   },
   "source": [
    "## Verifying if the Most or Least Probable Sets of Five Numbers Have Been Previously Drawn"
   ]
  },
  {
   "cell_type": "code",
   "execution_count": 275,
   "id": "de759a11ae45962e",
   "metadata": {
    "collapsed": false,
    "ExecuteTime": {
     "end_time": "2023-12-18T17:28:13.770780300Z",
     "start_time": "2023-12-18T17:28:13.762279600Z"
    }
   },
   "outputs": [
    {
     "name": "stdout",
     "output_type": "stream",
     "text": [
      "Occurrences of Most Probable Numbers:\n",
      "None\n",
      "\n",
      "Occurrences of Least Probable Numbers:\n",
      "None\n"
     ]
    }
   ],
   "source": [
    "def check_occurrence(lotto_data, numbers_set):\n",
    "    occurrences = []\n",
    "    for play_number, play_data in lotto_data.items():\n",
    "        if set(play_data['numbers']) == numbers_set:\n",
    "            occurrences.append((play_number, play_data['date']))\n",
    "    return occurrences\n",
    "\n",
    "# Most and least probable numbers\n",
    "most_probable_numbers = set(most_frequent_numbers)\n",
    "least_probable_numbers = set(least_frequent_numbers)\n",
    "\n",
    "# Check if these sets ever occurred in the history\n",
    "most_probable_occurrences = check_occurrence(lotto_results, most_probable_numbers)\n",
    "least_probable_occurrences = check_occurrence(lotto_results, least_probable_numbers)\n",
    "\n",
    "print(\"Occurrences of Most Probable Numbers:\")\n",
    "if most_probable_occurrences:\n",
    "    for play_number, date in most_probable_occurrences:\n",
    "        print(f\"Play Number: {play_number}, Date: {date}\")\n",
    "else:\n",
    "    print(\"None\")\n",
    "\n",
    "print(\"\\nOccurrences of Least Probable Numbers:\")\n",
    "if least_probable_occurrences:\n",
    "    for play_number, date in least_probable_occurrences:\n",
    "        print(f\"Play Number: {play_number}, Date: {date}\")\n",
    "else:\n",
    "    print(\"None\")\n"
   ]
  },
  {
   "cell_type": "markdown",
   "source": [
    "## Comprehensive Analysis of Lotto Number Combinations: Pairs, Triplets, and Quadruplets"
   ],
   "metadata": {
    "collapsed": false
   },
   "id": "a17be086fc4e2ee5"
  },
  {
   "cell_type": "code",
   "execution_count": 276,
   "outputs": [
    {
     "name": "stdout",
     "output_type": "stream",
     "text": [
      "\n",
      "Analyzing 2-number combinations:\n",
      "Combination: (21, 40), Frequency: 4\n",
      "Combination: (6, 34), Frequency: 3\n",
      "Combination: (4, 29), Frequency: 3\n",
      "Combination: (11, 22), Frequency: 3\n",
      "Combination: (33, 41), Frequency: 3\n",
      "Combination: (33, 40), Frequency: 3\n",
      "Combination: (4, 9), Frequency: 3\n",
      "Combination: (32, 39), Frequency: 3\n",
      "Combination: (17, 31), Frequency: 3\n",
      "Combination: (10, 22), Frequency: 3\n",
      "\n",
      "Analyzing 3-number combinations:\n",
      "Combination: (4, 24, 38), Frequency: 2\n",
      "Combination: (6, 17, 18), Frequency: 2\n",
      "Combination: (11, 21, 34), Frequency: 2\n",
      "Combination: (4, 9, 29), Frequency: 2\n",
      "Combination: (10, 21, 40), Frequency: 2\n",
      "Combination: (14, 15, 36), Frequency: 2\n",
      "Combination: (3, 4, 14), Frequency: 2\n",
      "Combination: (15, 17, 31), Frequency: 2\n",
      "Combination: (3, 33, 39), Frequency: 2\n",
      "Combination: (19, 28, 29), Frequency: 1\n",
      "\n",
      "Analyzing 4-number combinations:\n",
      "Combination: (19, 28, 29, 35), Frequency: 1\n",
      "Combination: (19, 28, 29, 32), Frequency: 1\n",
      "Combination: (19, 28, 32, 35), Frequency: 1\n",
      "Combination: (28, 29, 32, 35), Frequency: 1\n",
      "Combination: (19, 29, 32, 35), Frequency: 1\n",
      "Combination: (18, 20, 36, 41), Frequency: 1\n",
      "Combination: (18, 25, 36, 41), Frequency: 1\n",
      "Combination: (18, 20, 25, 41), Frequency: 1\n",
      "Combination: (18, 20, 25, 36), Frequency: 1\n",
      "Combination: (20, 25, 36, 41), Frequency: 1\n"
     ]
    }
   ],
   "source": [
    "def analyze_combinations(lotto_data, combination_size=2):\n",
    "    \"\"\"\n",
    "    Analyzes the frequency of combinations (like pairs, triplets, quadruplets) in the lotto data.\n",
    "\n",
    "    :param lotto_data: Dictionary of lotto results.\n",
    "    :param combination_size: Size of the combinations to analyze (2 for pairs, 3 for triplets, 4 for quadruplets).\n",
    "    :return: Counter object with the frequency of each combination.\n",
    "    \"\"\"\n",
    "    all_combinations = []\n",
    "\n",
    "    # Iterate through each draw and find combinations\n",
    "    for play_data in lotto_data.values():\n",
    "        numbers = play_data['numbers']\n",
    "        for combo in combinations(numbers, combination_size):\n",
    "            all_combinations.append(tuple(sorted(combo)))\n",
    "\n",
    "    return Counter(all_combinations)\n",
    "\n",
    "# Example usage\n",
    "for combination_size in [2, 3, 4]:  # For pairs, triplets, and quadruplets\n",
    "    print(f\"\\nAnalyzing {combination_size}-number combinations:\")\n",
    "    combinations_frequency = analyze_combinations(lotto_results, combination_size)\n",
    "\n",
    "    # Display the most common combinations\n",
    "    for combo, frequency in combinations_frequency.most_common(10):\n",
    "        print(f\"Combination: {combo}, Frequency: {frequency}\")\n"
   ],
   "metadata": {
    "collapsed": false,
    "ExecuteTime": {
     "end_time": "2023-12-18T17:28:13.778959Z",
     "start_time": "2023-12-18T17:28:13.770780300Z"
    }
   },
   "id": "f54e4d95f5ec1579"
  },
  {
   "cell_type": "markdown",
   "source": [
    "## Detailed Analysis of Lotto Number Distributions and Trends"
   ],
   "metadata": {
    "collapsed": false
   },
   "id": "cb03331bb37a382e"
  },
  {
   "cell_type": "markdown",
   "source": [
    "Change bin size for broader view or more granularity"
   ],
   "metadata": {
    "collapsed": false
   },
   "id": "6699251e3000564e"
  },
  {
   "cell_type": "code",
   "execution_count": 277,
   "outputs": [
    {
     "data": {
      "text/plain": "<Figure size 1200x600 with 1 Axes>",
      "image/png": "[encoded data removed]"
     },
     "metadata": {},
     "output_type": "display_data"
    },
    {
     "name": "stdout",
     "output_type": "stream",
     "text": [
      "Range: 1-10, Frequency: 64\n",
      "Range: 31-40, Frequency: 61\n",
      "Range: 11-20, Frequency: 51\n",
      "Range: 21-30, Frequency: 47\n",
      "Range: 41-50, Frequency: 12\n"
     ]
    }
   ],
   "source": [
    "def plot_number_distribution(lotto_data, bin_size=10):\n",
    "    \"\"\"\n",
    "    Plots the distribution of lotto numbers with more detailed x-axis.\n",
    "\n",
    "    :param lotto_data: Dictionary of lotto results.\n",
    "    :param bin_size: Size of each bin in the histogram, default is 1 for finer detail.\n",
    "    \"\"\"\n",
    "    all_numbers = []\n",
    "    for play_data in lotto_data.values():\n",
    "        all_numbers.extend(play_data['numbers'])\n",
    "\n",
    "    # Determine the range of numbers\n",
    "    min_number = min(all_numbers)\n",
    "    max_number = max(all_numbers)\n",
    "\n",
    "    # Create a histogram to visualize the distribution\n",
    "    plt.figure(figsize=(12, 6))\n",
    "    counts, bins, patches = plt.hist(all_numbers, bins=range(min_number, max_number + bin_size, bin_size), edgecolor='black', alpha=0.7)\n",
    "\n",
    "    # Adjust the x-axis to cover the entire range of bins\n",
    "    plt.xticks(range(min_number, max_number + bin_size, bin_size))\n",
    "\n",
    "    plt.xlabel('Number')\n",
    "    plt.ylabel('Frequency')\n",
    "    plt.title('Detailed Distribution of Lotto Numbers')\n",
    "    plt.grid(axis='y', alpha=0.75)\n",
    "    plt.show()\n",
    "\n",
    "    # Sorting and printing bin frequencies from highest to lowest\n",
    "    bin_frequencies = Counter({f'{int(bins[i])}-{int(bins[i+1])-1}': int(counts[i]) for i in range(len(counts))})\n",
    "    for bin_range, frequency in bin_frequencies.most_common():\n",
    "        print(f\"Range: {bin_range}, Frequency: {frequency}\")\n",
    "\n",
    "# Example usage\n",
    "plot_number_distribution(lotto_results)"
   ],
   "metadata": {
    "collapsed": false,
    "ExecuteTime": {
     "end_time": "2023-12-18T17:28:13.868532900Z",
     "start_time": "2023-12-18T17:28:13.776959700Z"
    }
   },
   "id": "e708355fbccafe0c"
  }
 ],
 "metadata": {
  "kernelspec": {
   "display_name": "Python 3 (ipykernel)",
   "language": "python",
   "name": "python3"
  },
  "language_info": {
   "codemirror_mode": {
    "name": "ipython",
    "version": 3
   },
   "file_extension": ".py",
   "mimetype": "text/x-python",
   "name": "python",
   "nbconvert_exporter": "python",
   "pygments_lexer": "ipython3",
   "version": "3.11.5"
  }
 },
 "nbformat": 4,
 "nbformat_minor": 5
}
